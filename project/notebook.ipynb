{
  "nbformat": 4,
  "nbformat_minor": 0,
  "metadata": {
    "colab": {
      "name": "zoomcamp end to end project.ipynb",
      "provenance": []
    },
    "kernelspec": {
      "name": "python3",
      "display_name": "Python 3"
    },
    "language_info": {
      "name": "python"
    },
    "accelerator": "GPU",
    "gpuClass": "standard"
  },
  "cells": [
    {
      "cell_type": "markdown",
      "source": [
        "# Getting the dataset"
      ],
      "metadata": {
        "id": "wJ6KU3gRdG56"
      }
    },
    {
      "cell_type": "markdown",
      "source": [
        "## First converting the data into `PARQUET` format."
      ],
      "metadata": {
        "id": "6fPExhHj95AZ"
      }
    },
    {
      "cell_type": "code",
      "source": [
        "!pip install opendatasets --upgrade --quiet"
      ],
      "metadata": {
        "id": "aWUqyfdndO6p"
      },
      "execution_count": null,
      "outputs": []
    },
    {
      "cell_type": "code",
      "source": [
        "import opendatasets as od\n",
        "\n",
        "dataset_url = \"https://www.kaggle.com/c/new-york-city-taxi-fare-prediction\"\n",
        "\n",
        "od.download(dataset_url)"
      ],
      "metadata": {
        "colab": {
          "base_uri": "https://localhost:8080/"
        },
        "id": "mwTb3GB4um_R",
        "outputId": "3c59a376-74df-40ce-b27b-5613ff9d0985"
      },
      "execution_count": null,
      "outputs": [
        {
          "output_type": "stream",
          "name": "stdout",
          "text": [
            "Downloading new-york-city-taxi-fare-prediction.zip to ./new-york-city-taxi-fare-prediction\n"
          ]
        },
        {
          "output_type": "stream",
          "name": "stderr",
          "text": [
            "100%|██████████| 1.56G/1.56G [00:37<00:00, 44.4MB/s]\n"
          ]
        },
        {
          "output_type": "stream",
          "name": "stdout",
          "text": [
            "\n",
            "Extracting archive ./new-york-city-taxi-fare-prediction/new-york-city-taxi-fare-prediction.zip to ./new-york-city-taxi-fare-prediction\n"
          ]
        }
      ]
    },
    {
      "cell_type": "code",
      "source": [
        "data_path = 'new-york-city-taxi-fare-prediction'"
      ],
      "metadata": {
        "id": "BgAZ9EwNu8LQ"
      },
      "execution_count": null,
      "outputs": []
    },
    {
      "cell_type": "code",
      "source": [
        "!ls -lh {data_path}"
      ],
      "metadata": {
        "colab": {
          "base_uri": "https://localhost:8080/"
        },
        "id": "J2GSWf88vFjA",
        "outputId": "fbe5ec13-5a3f-4f07-bc68-f5d0fec1582e"
      },
      "execution_count": null,
      "outputs": [
        {
          "output_type": "stream",
          "name": "stdout",
          "text": [
            "total 5.4G\n",
            "-rw-r--r-- 1 root root  486 Aug  8 05:39 GCP-Coupons-Instructions.rtf\n",
            "-rw-r--r-- 1 root root 336K Aug  8 05:39 sample_submission.csv\n",
            "-rw-r--r-- 1 root root 960K Aug  8 05:39 test.csv\n",
            "-rw-r--r-- 1 root root 5.4G Aug  8 05:40 train.csv\n"
          ]
        }
      ]
    },
    {
      "cell_type": "code",
      "source": [
        "!wc -l {data_path}/train.csv"
      ],
      "metadata": {
        "colab": {
          "base_uri": "https://localhost:8080/"
        },
        "id": "RlJHy_3xvJ2g",
        "outputId": "8cde6b1f-91cf-4336-af64-f608a4b853c3"
      },
      "execution_count": null,
      "outputs": [
        {
          "output_type": "stream",
          "name": "stdout",
          "text": [
            "55423856 new-york-city-taxi-fare-prediction/train.csv\n"
          ]
        }
      ]
    },
    {
      "cell_type": "code",
      "source": [
        "!wc -l {data_path}/test.csv"
      ],
      "metadata": {
        "colab": {
          "base_uri": "https://localhost:8080/"
        },
        "id": "RcAc0Z9lvLng",
        "outputId": "89ae84fd-683d-47ed-88a7-5a9bab848ad0"
      },
      "execution_count": null,
      "outputs": [
        {
          "output_type": "stream",
          "name": "stdout",
          "text": [
            "9914 new-york-city-taxi-fare-prediction/test.csv\n"
          ]
        }
      ]
    },
    {
      "cell_type": "code",
      "source": [
        "selected_cols = 'fare_amount,pickup_datetime,pickup_longitude,pickup_latitude,dropoff_longitude,dropoff_latitude,passenger_count'.split(',')\n",
        "selected_cols"
      ],
      "metadata": {
        "id": "_1hIxN2i-Db5",
        "colab": {
          "base_uri": "https://localhost:8080/"
        },
        "outputId": "da8361b0-bd47-4b62-b390-1e61680b135a"
      },
      "execution_count": null,
      "outputs": [
        {
          "output_type": "execute_result",
          "data": {
            "text/plain": [
              "['fare_amount',\n",
              " 'pickup_datetime',\n",
              " 'pickup_longitude',\n",
              " 'pickup_latitude',\n",
              " 'dropoff_longitude',\n",
              " 'dropoff_latitude',\n",
              " 'passenger_count']"
            ]
          },
          "metadata": {},
          "execution_count": 8
        }
      ]
    },
    {
      "cell_type": "code",
      "source": [
        "dtypes = {'fare_amount': 'float32',\n",
        " 'pickup_longitude': 'float32',\n",
        " 'pickup_latitude': 'float32',\n",
        " 'dropoff_longitude': 'float32',\n",
        " 'dropoff_latitude': 'float32',\n",
        " 'passenger_count': 'uint8'}"
      ],
      "metadata": {
        "id": "19olqO68xC8n"
      },
      "execution_count": null,
      "outputs": []
    },
    {
      "cell_type": "code",
      "source": [
        "import random\n",
        "random.random()"
      ],
      "metadata": {
        "colab": {
          "base_uri": "https://localhost:8080/"
        },
        "id": "8WNDijGb3V8f",
        "outputId": "749c0410-ae0c-4f91-cb9d-514f072266ae"
      },
      "execution_count": null,
      "outputs": [
        {
          "output_type": "execute_result",
          "data": {
            "text/plain": [
              "0.89370233537046"
            ]
          },
          "metadata": {},
          "execution_count": 10
        }
      ]
    },
    {
      "cell_type": "code",
      "source": [
        "sample_fraction = 0.05\n",
        "random.random()\n",
        "def skip_row(row_idx):\n",
        "  '''\n",
        "  This function return True or False on the basis whether \n",
        "  random.random() value is greater or less than sample_fraction\n",
        "  sample_fraction is the percentage of total number of records \n",
        "  we will use for our project.\n",
        "  '''\n",
        "  if row_idx ==0:\n",
        "    return True\n",
        "  return random.random() > sample_fraction\n",
        "random.seed(42)"
      ],
      "metadata": {
        "id": "UWGfOFHI-P7Z"
      },
      "execution_count": null,
      "outputs": []
    },
    {
      "cell_type": "markdown",
      "source": [
        "#### We will read around 5% of the total dataset and convert it to parquet format so it will be easy to do analysis on the data. We won't have to get the whole dataset everytime, we will use the data in `parquet` format."
      ],
      "metadata": {
        "id": "ZM9BDNfbddGh"
      }
    },
    {
      "cell_type": "code",
      "source": [
        "import pandas as pd"
      ],
      "metadata": {
        "id": "iMvo7bqotQjo"
      },
      "execution_count": null,
      "outputs": []
    },
    {
      "cell_type": "code",
      "source": [
        "df = pd.read_csv(\"/content/new-york-city-taxi-fare-prediction/train.csv\", usecols=selected_cols,\n",
        "                 dtype=dtypes, \n",
        "                 parse_dates=[\"pickup_datetime\"],\n",
        "                 skip_rows=skip_row)\n",
        "df.to_parquet(\"nyc-taxi-fare-prediction.parquet\", engine=\"pyarrow\", compression=None)"
      ],
      "metadata": {
        "id": "YS0KvmJ-9VO4"
      },
      "execution_count": null,
      "outputs": []
    },
    {
      "cell_type": "markdown",
      "source": [
        "## Facts about the dataset\n",
        "\n",
        "- This is a supervised learning regression problem.\n",
        "- Training daa is 5.5gb in size. It has 5.5 million rows of records.\n",
        "- Test set is much smaller with only 9914 rows. Since this test set is not provided with target variable `fare_amount` we will use different approach on training and test sets.\n",
        "- The training set has 8 unique columns.\n",
        "  - key (a unique identifier).\n",
        "  - fare_amount (target_column).\n",
        "  - pickup_datetime\n",
        "  - pickup_longitude\n",
        "  - pickup_latitude\n",
        "  - dropoff_longitude\n",
        "  - dropoff_latitude\n",
        "  - passenger_count\n"
      ],
      "metadata": {
        "id": "pBpZBm0Yvaph"
      }
    },
    {
      "cell_type": "markdown",
      "source": [
        "# Loading and Exploring the data"
      ],
      "metadata": {
        "id": "ZgLENLGBiwaC"
      }
    },
    {
      "cell_type": "code",
      "execution_count": null,
      "metadata": {
        "id": "9FXfEB2piZwf"
      },
      "outputs": [],
      "source": [
        "import pandas as pd\n",
        "import numpy as np\n",
        "import seaborn as sns\n",
        "import matplotlib.pyplot as plt\n",
        "import matplotlib\n",
        "%matplotlib inline"
      ]
    },
    {
      "cell_type": "code",
      "source": [
        "df = pd.read_parquet(\"/content/nyc-taxi-fare-prediction.parquet\", engine=\"pyarrow\")"
      ],
      "metadata": {
        "id": "PEb_CRmde8Ph"
      },
      "execution_count": null,
      "outputs": []
    },
    {
      "cell_type": "code",
      "source": [
        "df.info()"
      ],
      "metadata": {
        "colab": {
          "base_uri": "https://localhost:8080/"
        },
        "id": "Y0OJW3XECR-6",
        "outputId": "653f6ba7-1095-4ece-c419-ee6f4c7c1b3d"
      },
      "execution_count": null,
      "outputs": [
        {
          "output_type": "stream",
          "name": "stdout",
          "text": [
            "<class 'pandas.core.frame.DataFrame'>\n",
            "RangeIndex: 2769960 entries, 0 to 2769959\n",
            "Data columns (total 7 columns):\n",
            " #   Column             Dtype              \n",
            "---  ------             -----              \n",
            " 0   fare_amount        float32            \n",
            " 1   pickup_datetime    datetime64[ns, UTC]\n",
            " 2   pickup_longitude   float32            \n",
            " 3   pickup_latitude    float32            \n",
            " 4   dropoff_longitude  float32            \n",
            " 5   dropoff_latitude   float32            \n",
            " 6   passenger_count    uint8              \n",
            "dtypes: datetime64[ns, UTC](1), float32(5), uint8(1)\n",
            "memory usage: 76.6 MB\n"
          ]
        }
      ]
    },
    {
      "cell_type": "code",
      "source": [
        "df.isna().sum()"
      ],
      "metadata": {
        "colab": {
          "base_uri": "https://localhost:8080/"
        },
        "id": "xg38yxlCChPK",
        "outputId": "246719ed-ae82-4e21-898c-8b3fcf13163c"
      },
      "execution_count": null,
      "outputs": [
        {
          "output_type": "execute_result",
          "data": {
            "text/plain": [
              "fare_amount           0\n",
              "pickup_datetime       0\n",
              "pickup_longitude      0\n",
              "pickup_latitude       0\n",
              "dropoff_longitude    16\n",
              "dropoff_latitude     16\n",
              "passenger_count       0\n",
              "dtype: int64"
            ]
          },
          "metadata": {},
          "execution_count": 7
        }
      ]
    },
    {
      "cell_type": "code",
      "source": [
        "df.describe()"
      ],
      "metadata": {
        "colab": {
          "base_uri": "https://localhost:8080/",
          "height": 300
        },
        "id": "-NH72WuPARoC",
        "outputId": "2f953cad-4a3e-4e62-c5b3-15d711b88070"
      },
      "execution_count": null,
      "outputs": [
        {
          "output_type": "execute_result",
          "data": {
            "text/plain": [
              "        fare_amount  pickup_longitude  pickup_latitude  dropoff_longitude  \\\n",
              "count  2.769960e+06      2.769960e+06     2.769960e+06       2.769944e+06   \n",
              "mean   1.135242e+01     -7.250467e+01     3.991627e+01      -7.250388e+01   \n",
              "std    9.850647e+00      1.272167e+01     1.037595e+01       1.300545e+01   \n",
              "min   -3.000000e+02     -3.439245e+03    -3.492264e+03      -3.367929e+03   \n",
              "25%    6.000000e+00     -7.399205e+01     4.073492e+01      -7.399141e+01   \n",
              "50%    8.500000e+00     -7.398180e+01     4.075264e+01      -7.398017e+01   \n",
              "75%    1.250000e+01     -7.396708e+01     4.076711e+01      -7.396368e+01   \n",
              "max    1.273310e+03      3.442185e+03     3.376602e+03       3.442185e+03   \n",
              "\n",
              "       dropoff_latitude  passenger_count  \n",
              "count      2.769944e+06     2.769960e+06  \n",
              "mean       3.991397e+01     1.685441e+00  \n",
              "std        1.044149e+01     1.320807e+00  \n",
              "min       -3.483855e+03     0.000000e+00  \n",
              "25%        4.073399e+01     1.000000e+00  \n",
              "50%        4.075312e+01     1.000000e+00  \n",
              "75%        4.076808e+01     2.000000e+00  \n",
              "max        3.351403e+03     2.080000e+02  "
            ],
            "text/html": [
              "\n",
              "  <div id=\"df-d35953ea-a5df-4fcb-8909-c3f146a356c2\">\n",
              "    <div class=\"colab-df-container\">\n",
              "      <div>\n",
              "<style scoped>\n",
              "    .dataframe tbody tr th:only-of-type {\n",
              "        vertical-align: middle;\n",
              "    }\n",
              "\n",
              "    .dataframe tbody tr th {\n",
              "        vertical-align: top;\n",
              "    }\n",
              "\n",
              "    .dataframe thead th {\n",
              "        text-align: right;\n",
              "    }\n",
              "</style>\n",
              "<table border=\"1\" class=\"dataframe\">\n",
              "  <thead>\n",
              "    <tr style=\"text-align: right;\">\n",
              "      <th></th>\n",
              "      <th>fare_amount</th>\n",
              "      <th>pickup_longitude</th>\n",
              "      <th>pickup_latitude</th>\n",
              "      <th>dropoff_longitude</th>\n",
              "      <th>dropoff_latitude</th>\n",
              "      <th>passenger_count</th>\n",
              "    </tr>\n",
              "  </thead>\n",
              "  <tbody>\n",
              "    <tr>\n",
              "      <th>count</th>\n",
              "      <td>2.769960e+06</td>\n",
              "      <td>2.769960e+06</td>\n",
              "      <td>2.769960e+06</td>\n",
              "      <td>2.769944e+06</td>\n",
              "      <td>2.769944e+06</td>\n",
              "      <td>2.769960e+06</td>\n",
              "    </tr>\n",
              "    <tr>\n",
              "      <th>mean</th>\n",
              "      <td>1.135242e+01</td>\n",
              "      <td>-7.250467e+01</td>\n",
              "      <td>3.991627e+01</td>\n",
              "      <td>-7.250388e+01</td>\n",
              "      <td>3.991397e+01</td>\n",
              "      <td>1.685441e+00</td>\n",
              "    </tr>\n",
              "    <tr>\n",
              "      <th>std</th>\n",
              "      <td>9.850647e+00</td>\n",
              "      <td>1.272167e+01</td>\n",
              "      <td>1.037595e+01</td>\n",
              "      <td>1.300545e+01</td>\n",
              "      <td>1.044149e+01</td>\n",
              "      <td>1.320807e+00</td>\n",
              "    </tr>\n",
              "    <tr>\n",
              "      <th>min</th>\n",
              "      <td>-3.000000e+02</td>\n",
              "      <td>-3.439245e+03</td>\n",
              "      <td>-3.492264e+03</td>\n",
              "      <td>-3.367929e+03</td>\n",
              "      <td>-3.483855e+03</td>\n",
              "      <td>0.000000e+00</td>\n",
              "    </tr>\n",
              "    <tr>\n",
              "      <th>25%</th>\n",
              "      <td>6.000000e+00</td>\n",
              "      <td>-7.399205e+01</td>\n",
              "      <td>4.073492e+01</td>\n",
              "      <td>-7.399141e+01</td>\n",
              "      <td>4.073399e+01</td>\n",
              "      <td>1.000000e+00</td>\n",
              "    </tr>\n",
              "    <tr>\n",
              "      <th>50%</th>\n",
              "      <td>8.500000e+00</td>\n",
              "      <td>-7.398180e+01</td>\n",
              "      <td>4.075264e+01</td>\n",
              "      <td>-7.398017e+01</td>\n",
              "      <td>4.075312e+01</td>\n",
              "      <td>1.000000e+00</td>\n",
              "    </tr>\n",
              "    <tr>\n",
              "      <th>75%</th>\n",
              "      <td>1.250000e+01</td>\n",
              "      <td>-7.396708e+01</td>\n",
              "      <td>4.076711e+01</td>\n",
              "      <td>-7.396368e+01</td>\n",
              "      <td>4.076808e+01</td>\n",
              "      <td>2.000000e+00</td>\n",
              "    </tr>\n",
              "    <tr>\n",
              "      <th>max</th>\n",
              "      <td>1.273310e+03</td>\n",
              "      <td>3.442185e+03</td>\n",
              "      <td>3.376602e+03</td>\n",
              "      <td>3.442185e+03</td>\n",
              "      <td>3.351403e+03</td>\n",
              "      <td>2.080000e+02</td>\n",
              "    </tr>\n",
              "  </tbody>\n",
              "</table>\n",
              "</div>\n",
              "      <button class=\"colab-df-convert\" onclick=\"convertToInteractive('df-d35953ea-a5df-4fcb-8909-c3f146a356c2')\"\n",
              "              title=\"Convert this dataframe to an interactive table.\"\n",
              "              style=\"display:none;\">\n",
              "        \n",
              "  <svg xmlns=\"http://www.w3.org/2000/svg\" height=\"24px\"viewBox=\"0 0 24 24\"\n",
              "       width=\"24px\">\n",
              "    <path d=\"M0 0h24v24H0V0z\" fill=\"none\"/>\n",
              "    <path d=\"M18.56 5.44l.94 2.06.94-2.06 2.06-.94-2.06-.94-.94-2.06-.94 2.06-2.06.94zm-11 1L8.5 8.5l.94-2.06 2.06-.94-2.06-.94L8.5 2.5l-.94 2.06-2.06.94zm10 10l.94 2.06.94-2.06 2.06-.94-2.06-.94-.94-2.06-.94 2.06-2.06.94z\"/><path d=\"M17.41 7.96l-1.37-1.37c-.4-.4-.92-.59-1.43-.59-.52 0-1.04.2-1.43.59L10.3 9.45l-7.72 7.72c-.78.78-.78 2.05 0 2.83L4 21.41c.39.39.9.59 1.41.59.51 0 1.02-.2 1.41-.59l7.78-7.78 2.81-2.81c.8-.78.8-2.07 0-2.86zM5.41 20L4 18.59l7.72-7.72 1.47 1.35L5.41 20z\"/>\n",
              "  </svg>\n",
              "      </button>\n",
              "      \n",
              "  <style>\n",
              "    .colab-df-container {\n",
              "      display:flex;\n",
              "      flex-wrap:wrap;\n",
              "      gap: 12px;\n",
              "    }\n",
              "\n",
              "    .colab-df-convert {\n",
              "      background-color: #E8F0FE;\n",
              "      border: none;\n",
              "      border-radius: 50%;\n",
              "      cursor: pointer;\n",
              "      display: none;\n",
              "      fill: #1967D2;\n",
              "      height: 32px;\n",
              "      padding: 0 0 0 0;\n",
              "      width: 32px;\n",
              "    }\n",
              "\n",
              "    .colab-df-convert:hover {\n",
              "      background-color: #E2EBFA;\n",
              "      box-shadow: 0px 1px 2px rgba(60, 64, 67, 0.3), 0px 1px 3px 1px rgba(60, 64, 67, 0.15);\n",
              "      fill: #174EA6;\n",
              "    }\n",
              "\n",
              "    [theme=dark] .colab-df-convert {\n",
              "      background-color: #3B4455;\n",
              "      fill: #D2E3FC;\n",
              "    }\n",
              "\n",
              "    [theme=dark] .colab-df-convert:hover {\n",
              "      background-color: #434B5C;\n",
              "      box-shadow: 0px 1px 3px 1px rgba(0, 0, 0, 0.15);\n",
              "      filter: drop-shadow(0px 1px 2px rgba(0, 0, 0, 0.3));\n",
              "      fill: #FFFFFF;\n",
              "    }\n",
              "  </style>\n",
              "\n",
              "      <script>\n",
              "        const buttonEl =\n",
              "          document.querySelector('#df-d35953ea-a5df-4fcb-8909-c3f146a356c2 button.colab-df-convert');\n",
              "        buttonEl.style.display =\n",
              "          google.colab.kernel.accessAllowed ? 'block' : 'none';\n",
              "\n",
              "        async function convertToInteractive(key) {\n",
              "          const element = document.querySelector('#df-d35953ea-a5df-4fcb-8909-c3f146a356c2');\n",
              "          const dataTable =\n",
              "            await google.colab.kernel.invokeFunction('convertToInteractive',\n",
              "                                                     [key], {});\n",
              "          if (!dataTable) return;\n",
              "\n",
              "          const docLinkHtml = 'Like what you see? Visit the ' +\n",
              "            '<a target=\"_blank\" href=https://colab.research.google.com/notebooks/data_table.ipynb>data table notebook</a>'\n",
              "            + ' to learn more about interactive tables.';\n",
              "          element.innerHTML = '';\n",
              "          dataTable['output_type'] = 'display_data';\n",
              "          await google.colab.output.renderOutput(dataTable, element);\n",
              "          const docLink = document.createElement('div');\n",
              "          docLink.innerHTML = docLinkHtml;\n",
              "          element.appendChild(docLink);\n",
              "        }\n",
              "      </script>\n",
              "    </div>\n",
              "  </div>\n",
              "  "
            ]
          },
          "metadata": {},
          "execution_count": 8
        }
      ]
    },
    {
      "cell_type": "markdown",
      "source": [
        "## Initial Observations from the data\n",
        "- 2.76 million rows of records\n",
        "- There are 16 values missing in `dropoff_longitude` and `dropoff_latitude`. We will simply remove the rows which contains null values since the number of records is very high.\n",
        "- Date ranges from 1st jan 2009 to 30th june 2015.\n",
        "We may need to deal with outliers and data entry errors before we train our model."
      ],
      "metadata": {
        "id": "yoHIWKJpCEdb"
      }
    },
    {
      "cell_type": "markdown",
      "source": [
        "## How to split into train and test set ?\n",
        "We will divide the dataset into train and test set on the basis of year. So first lets add some attributes to the dataset related with datetime value. The resulting validation and test set will be used to simulate production by passing the data from future to the model in production to see its performance."
      ],
      "metadata": {
        "id": "DJ4VtjjrEEy1"
      }
    },
    {
      "cell_type": "code",
      "source": [
        "def add_dateparts(df, col):\n",
        "  df[col +'_year'] = df[col].dt.year\n",
        "  df[col +'_month'] = df[col].dt.month\n",
        "  df[col +'_day'] = df[col].dt.day\n",
        "  df[col +'_weekday'] = df[col].dt.weekday\n",
        "  df[col +'_hour'] = df[col].dt.hour"
      ],
      "metadata": {
        "id": "AyvSR3WXB6vS"
      },
      "execution_count": 7,
      "outputs": []
    },
    {
      "cell_type": "code",
      "source": [
        "col = 'pickup_datetime'\n",
        "df[col].dt.year"
      ],
      "metadata": {
        "colab": {
          "base_uri": "https://localhost:8080/"
        },
        "id": "xKaPqUybEcMJ",
        "outputId": "bf1d9569-0dc8-499a-d0d4-2e921ffc537b"
      },
      "execution_count": null,
      "outputs": [
        {
          "output_type": "execute_result",
          "data": {
            "text/plain": [
              "0          2010\n",
              "1          2009\n",
              "2          2009\n",
              "3          2014\n",
              "4          2011\n",
              "           ... \n",
              "2769955    2013\n",
              "2769956    2014\n",
              "2769957    2010\n",
              "2769958    2013\n",
              "2769959    2010\n",
              "Name: pickup_datetime, Length: 2769960, dtype: int64"
            ]
          },
          "metadata": {},
          "execution_count": 11
        }
      ]
    },
    {
      "cell_type": "code",
      "source": [
        "add_dateparts(df, 'pickup_datetime')"
      ],
      "metadata": {
        "id": "vQcND1x0EhDh"
      },
      "execution_count": null,
      "outputs": []
    },
    {
      "cell_type": "code",
      "source": [
        "df.columns"
      ],
      "metadata": {
        "colab": {
          "base_uri": "https://localhost:8080/"
        },
        "id": "JBXOv3g5EpOR",
        "outputId": "632d1b20-b2e7-403f-d09c-e8b9fc379506"
      },
      "execution_count": null,
      "outputs": [
        {
          "output_type": "execute_result",
          "data": {
            "text/plain": [
              "Index(['fare_amount', 'pickup_datetime', 'pickup_longitude', 'pickup_latitude',\n",
              "       'dropoff_longitude', 'dropoff_latitude', 'passenger_count',\n",
              "       'pickup_datetime_year', 'pickup_datetime_month', 'pickup_datetime_day',\n",
              "       'pickup_datetime_weekday', 'pickup_datetime_hour'],\n",
              "      dtype='object')"
            ]
          },
          "metadata": {},
          "execution_count": 13
        }
      ]
    },
    {
      "cell_type": "code",
      "source": [
        "df[\"pickup_datetime_year\"].value_counts()"
      ],
      "metadata": {
        "colab": {
          "base_uri": "https://localhost:8080/"
        },
        "id": "sqwp8FAtErNJ",
        "outputId": "29c97578-f0eb-4aab-f0d5-442ba3efe44a"
      },
      "execution_count": null,
      "outputs": [
        {
          "output_type": "execute_result",
          "data": {
            "text/plain": [
              "2012    445806\n",
              "2011    442430\n",
              "2013    432968\n",
              "2009    426683\n",
              "2010    417164\n",
              "2014    412709\n",
              "2015    192200\n",
              "Name: pickup_datetime_year, dtype: int64"
            ]
          },
          "metadata": {},
          "execution_count": 14
        }
      ]
    },
    {
      "cell_type": "markdown",
      "source": [
        "## Train test split\n",
        "year `2009-2012` -> train set\n",
        "#### We will use data for years 2013, 2014 and 2015 to duplicate production environment or for model retraining purposes."
      ],
      "metadata": {
        "id": "1YFRkxk-FTup"
      }
    },
    {
      "cell_type": "code",
      "source": [
        "df_2009 = df.loc[df[\"pickup_datetime_year\"]==2009,].copy()\n",
        "df_2010 = df.loc[df[\"pickup_datetime_year\"]==2010,].copy()\n",
        "df_2011 = df.loc[df[\"pickup_datetime_year\"]==2011,].copy()\n",
        "df_2012 = df.loc[df[\"pickup_datetime_year\"]==2012,].copy()\n",
        "\n",
        "df_2013 = df.loc[df[\"pickup_datetime_year\"]==2013,].copy()\n",
        "\n",
        "df_2014 = df.loc[df[\"pickup_datetime_year\"]==2014,].copy()\n",
        "df_2015 = df.loc[df[\"pickup_datetime_year\"]==2015,].copy()"
      ],
      "metadata": {
        "id": "X3-DWsSaEzYx"
      },
      "execution_count": null,
      "outputs": []
    },
    {
      "cell_type": "code",
      "source": [
        "df_2009_2010 = pd.concat([df_2009,df_2010], axis=0)\n",
        "df_2011_2010_2009 = pd.concat([df_2009_2010, df_2011], axis=0)\n",
        "train_df = pd.concat([df_2011_2010_2009, df_2012], axis=0)"
      ],
      "metadata": {
        "id": "nOdBn19MJQLQ"
      },
      "execution_count": null,
      "outputs": []
    },
    {
      "cell_type": "code",
      "source": [
        "len(train_df)"
      ],
      "metadata": {
        "colab": {
          "base_uri": "https://localhost:8080/"
        },
        "id": "24ThSuYFJ4DI",
        "outputId": "a37b3849-f235-406b-8129-038f9f2d4bb5"
      },
      "execution_count": null,
      "outputs": [
        {
          "output_type": "execute_result",
          "data": {
            "text/plain": [
              "1732083"
            ]
          },
          "metadata": {},
          "execution_count": 17
        }
      ]
    },
    {
      "cell_type": "code",
      "source": [
        "train_df.to_parquet(\"train_set.parquet\", engine=\"pyarrow\", compression=None)"
      ],
      "metadata": {
        "id": "y-qPEQUbhyqJ"
      },
      "execution_count": null,
      "outputs": []
    },
    {
      "cell_type": "markdown",
      "source": [
        "But in real life when we need to retrain models on new data, these date features would need to be added to the new dataset. So to make things more real, we will output data for different years (2013, 2014, 2015) in `parquet` format by removing these date features we just added above inorder to split the dataset on the basis of years."
      ],
      "metadata": {
        "id": "kH_GYXPxC_es"
      }
    },
    {
      "cell_type": "code",
      "source": [
        "df_2013.drop(columns=[\"pickup_datetime_year\",\"pickup_datetime_month\",\"pickup_datetime_day\",\"pickup_datetime_weekday\",\"pickup_datetime_hour\"], inplace=True)\n",
        "df_2014.drop(columns=[\"pickup_datetime_year\",\"pickup_datetime_month\",\"pickup_datetime_day\",\"pickup_datetime_weekday\",\"pickup_datetime_hour\"], inplace=True)\n",
        "df_2015.drop(columns=[\"pickup_datetime_year\",\"pickup_datetime_month\",\"pickup_datetime_day\",\"pickup_datetime_weekday\",\"pickup_datetime_hour\"], inplace=True)"
      ],
      "metadata": {
        "id": "LrDF-aPCC_GE"
      },
      "execution_count": 15,
      "outputs": []
    },
    {
      "cell_type": "code",
      "source": [
        "df_2013.to_parquet(\"data_2013.parquet\", engine=\"pyarrow\", compression=None)\n",
        "df_2014.to_parquet(\"data_2014.parquet\", engine=\"pyarrow\", compression=None)\n",
        "df_2015.to_parquet(\"data_2015.parquet\", engine=\"pyarrow\", compression=None)"
      ],
      "metadata": {
        "id": "3EtF5NvwCoIt"
      },
      "execution_count": 16,
      "outputs": []
    },
    {
      "cell_type": "markdown",
      "source": [
        "## Let's work with train set"
      ],
      "metadata": {
        "id": "6mAUCQf1fytR"
      }
    },
    {
      "cell_type": "code",
      "source": [
        "train_df = pd.read_parquet(\"train_set.parquet\", engine=\"pyarrow\")"
      ],
      "metadata": {
        "id": "uAkihdjKi8UB"
      },
      "execution_count": null,
      "outputs": []
    },
    {
      "cell_type": "code",
      "source": [
        "train_df.info()"
      ],
      "metadata": {
        "colab": {
          "base_uri": "https://localhost:8080/"
        },
        "id": "Tlq_7JCxjKEp",
        "outputId": "c56242fa-ac2d-4f1f-c368-9cab7bfb8b68"
      },
      "execution_count": null,
      "outputs": [
        {
          "output_type": "stream",
          "name": "stdout",
          "text": [
            "<class 'pandas.core.frame.DataFrame'>\n",
            "Int64Index: 1732083 entries, 1 to 2769951\n",
            "Data columns (total 12 columns):\n",
            " #   Column                   Dtype              \n",
            "---  ------                   -----              \n",
            " 0   fare_amount              float32            \n",
            " 1   pickup_datetime          datetime64[ns, UTC]\n",
            " 2   pickup_longitude         float32            \n",
            " 3   pickup_latitude          float32            \n",
            " 4   dropoff_longitude        float32            \n",
            " 5   dropoff_latitude         float32            \n",
            " 6   passenger_count          uint8              \n",
            " 7   pickup_datetime_year     int64              \n",
            " 8   pickup_datetime_month    int64              \n",
            " 9   pickup_datetime_day      int64              \n",
            " 10  pickup_datetime_weekday  int64              \n",
            " 11  pickup_datetime_hour     int64              \n",
            "dtypes: datetime64[ns, UTC](1), float32(5), int64(5), uint8(1)\n",
            "memory usage: 127.2 MB\n"
          ]
        }
      ]
    },
    {
      "cell_type": "code",
      "source": [
        "train_df.describe()"
      ],
      "metadata": {
        "colab": {
          "base_uri": "https://localhost:8080/",
          "height": 364
        },
        "id": "jYsyuRbmjMX5",
        "outputId": "a1ac3fb8-28e9-4353-ece7-9cb76dcd50c5"
      },
      "execution_count": null,
      "outputs": [
        {
          "output_type": "execute_result",
          "data": {
            "text/plain": [
              "        fare_amount  pickup_longitude  pickup_latitude  dropoff_longitude  \\\n",
              "count  1.732083e+06      1.732083e+06     1.732083e+06       1.732074e+06   \n",
              "mean   1.048085e+01     -7.250610e+01     3.994386e+01      -7.251649e+01   \n",
              "std    8.766880e+00      1.373800e+01     1.178713e+01       1.420628e+01   \n",
              "min   -5.000000e+01     -3.439245e+03    -3.492264e+03      -3.367929e+03   \n",
              "25%    5.700000e+00     -7.399203e+01     4.073509e+01      -7.399142e+01   \n",
              "50%    7.700000e+00     -7.398180e+01     4.075279e+01      -7.398026e+01   \n",
              "75%    1.170000e+01     -7.396725e+01     4.076716e+01      -7.396414e+01   \n",
              "max    5.000000e+02      3.442185e+03     3.376602e+03       3.442185e+03   \n",
              "\n",
              "       dropoff_latitude  passenger_count  pickup_datetime_year  \\\n",
              "count      1.732074e+06     1.732083e+06          1.732083e+06   \n",
              "mean       3.994347e+01     1.676351e+00          2.010524e+03   \n",
              "std        1.210593e+01     1.285510e+00          1.121105e+00   \n",
              "min       -3.483855e+03     0.000000e+00          2.009000e+03   \n",
              "25%        4.073420e+01     1.000000e+00          2.010000e+03   \n",
              "50%        4.075323e+01     1.000000e+00          2.011000e+03   \n",
              "75%        4.076806e+01     2.000000e+00          2.012000e+03   \n",
              "max        3.351403e+03     2.080000e+02          2.012000e+03   \n",
              "\n",
              "       pickup_datetime_month  pickup_datetime_day  pickup_datetime_weekday  \\\n",
              "count           1.732083e+06         1.732083e+06             1.732083e+06   \n",
              "mean            6.501521e+00         1.576115e+01             3.031379e+00   \n",
              "std             3.441698e+00         8.663839e+00             1.944523e+00   \n",
              "min             1.000000e+00         1.000000e+00             0.000000e+00   \n",
              "25%             4.000000e+00         8.000000e+00             1.000000e+00   \n",
              "50%             6.000000e+00         1.600000e+01             3.000000e+00   \n",
              "75%             1.000000e+01         2.300000e+01             5.000000e+00   \n",
              "max             1.200000e+01         3.100000e+01             6.000000e+00   \n",
              "\n",
              "       pickup_datetime_hour  \n",
              "count          1.732083e+06  \n",
              "mean           1.349950e+01  \n",
              "std            6.514927e+00  \n",
              "min            0.000000e+00  \n",
              "25%            9.000000e+00  \n",
              "50%            1.400000e+01  \n",
              "75%            1.900000e+01  \n",
              "max            2.300000e+01  "
            ],
            "text/html": [
              "\n",
              "  <div id=\"df-cec26616-5d5d-4eb8-b83c-47adf334a617\">\n",
              "    <div class=\"colab-df-container\">\n",
              "      <div>\n",
              "<style scoped>\n",
              "    .dataframe tbody tr th:only-of-type {\n",
              "        vertical-align: middle;\n",
              "    }\n",
              "\n",
              "    .dataframe tbody tr th {\n",
              "        vertical-align: top;\n",
              "    }\n",
              "\n",
              "    .dataframe thead th {\n",
              "        text-align: right;\n",
              "    }\n",
              "</style>\n",
              "<table border=\"1\" class=\"dataframe\">\n",
              "  <thead>\n",
              "    <tr style=\"text-align: right;\">\n",
              "      <th></th>\n",
              "      <th>fare_amount</th>\n",
              "      <th>pickup_longitude</th>\n",
              "      <th>pickup_latitude</th>\n",
              "      <th>dropoff_longitude</th>\n",
              "      <th>dropoff_latitude</th>\n",
              "      <th>passenger_count</th>\n",
              "      <th>pickup_datetime_year</th>\n",
              "      <th>pickup_datetime_month</th>\n",
              "      <th>pickup_datetime_day</th>\n",
              "      <th>pickup_datetime_weekday</th>\n",
              "      <th>pickup_datetime_hour</th>\n",
              "    </tr>\n",
              "  </thead>\n",
              "  <tbody>\n",
              "    <tr>\n",
              "      <th>count</th>\n",
              "      <td>1.732083e+06</td>\n",
              "      <td>1.732083e+06</td>\n",
              "      <td>1.732083e+06</td>\n",
              "      <td>1.732074e+06</td>\n",
              "      <td>1.732074e+06</td>\n",
              "      <td>1.732083e+06</td>\n",
              "      <td>1.732083e+06</td>\n",
              "      <td>1.732083e+06</td>\n",
              "      <td>1.732083e+06</td>\n",
              "      <td>1.732083e+06</td>\n",
              "      <td>1.732083e+06</td>\n",
              "    </tr>\n",
              "    <tr>\n",
              "      <th>mean</th>\n",
              "      <td>1.048085e+01</td>\n",
              "      <td>-7.250610e+01</td>\n",
              "      <td>3.994386e+01</td>\n",
              "      <td>-7.251649e+01</td>\n",
              "      <td>3.994347e+01</td>\n",
              "      <td>1.676351e+00</td>\n",
              "      <td>2.010524e+03</td>\n",
              "      <td>6.501521e+00</td>\n",
              "      <td>1.576115e+01</td>\n",
              "      <td>3.031379e+00</td>\n",
              "      <td>1.349950e+01</td>\n",
              "    </tr>\n",
              "    <tr>\n",
              "      <th>std</th>\n",
              "      <td>8.766880e+00</td>\n",
              "      <td>1.373800e+01</td>\n",
              "      <td>1.178713e+01</td>\n",
              "      <td>1.420628e+01</td>\n",
              "      <td>1.210593e+01</td>\n",
              "      <td>1.285510e+00</td>\n",
              "      <td>1.121105e+00</td>\n",
              "      <td>3.441698e+00</td>\n",
              "      <td>8.663839e+00</td>\n",
              "      <td>1.944523e+00</td>\n",
              "      <td>6.514927e+00</td>\n",
              "    </tr>\n",
              "    <tr>\n",
              "      <th>min</th>\n",
              "      <td>-5.000000e+01</td>\n",
              "      <td>-3.439245e+03</td>\n",
              "      <td>-3.492264e+03</td>\n",
              "      <td>-3.367929e+03</td>\n",
              "      <td>-3.483855e+03</td>\n",
              "      <td>0.000000e+00</td>\n",
              "      <td>2.009000e+03</td>\n",
              "      <td>1.000000e+00</td>\n",
              "      <td>1.000000e+00</td>\n",
              "      <td>0.000000e+00</td>\n",
              "      <td>0.000000e+00</td>\n",
              "    </tr>\n",
              "    <tr>\n",
              "      <th>25%</th>\n",
              "      <td>5.700000e+00</td>\n",
              "      <td>-7.399203e+01</td>\n",
              "      <td>4.073509e+01</td>\n",
              "      <td>-7.399142e+01</td>\n",
              "      <td>4.073420e+01</td>\n",
              "      <td>1.000000e+00</td>\n",
              "      <td>2.010000e+03</td>\n",
              "      <td>4.000000e+00</td>\n",
              "      <td>8.000000e+00</td>\n",
              "      <td>1.000000e+00</td>\n",
              "      <td>9.000000e+00</td>\n",
              "    </tr>\n",
              "    <tr>\n",
              "      <th>50%</th>\n",
              "      <td>7.700000e+00</td>\n",
              "      <td>-7.398180e+01</td>\n",
              "      <td>4.075279e+01</td>\n",
              "      <td>-7.398026e+01</td>\n",
              "      <td>4.075323e+01</td>\n",
              "      <td>1.000000e+00</td>\n",
              "      <td>2.011000e+03</td>\n",
              "      <td>6.000000e+00</td>\n",
              "      <td>1.600000e+01</td>\n",
              "      <td>3.000000e+00</td>\n",
              "      <td>1.400000e+01</td>\n",
              "    </tr>\n",
              "    <tr>\n",
              "      <th>75%</th>\n",
              "      <td>1.170000e+01</td>\n",
              "      <td>-7.396725e+01</td>\n",
              "      <td>4.076716e+01</td>\n",
              "      <td>-7.396414e+01</td>\n",
              "      <td>4.076806e+01</td>\n",
              "      <td>2.000000e+00</td>\n",
              "      <td>2.012000e+03</td>\n",
              "      <td>1.000000e+01</td>\n",
              "      <td>2.300000e+01</td>\n",
              "      <td>5.000000e+00</td>\n",
              "      <td>1.900000e+01</td>\n",
              "    </tr>\n",
              "    <tr>\n",
              "      <th>max</th>\n",
              "      <td>5.000000e+02</td>\n",
              "      <td>3.442185e+03</td>\n",
              "      <td>3.376602e+03</td>\n",
              "      <td>3.442185e+03</td>\n",
              "      <td>3.351403e+03</td>\n",
              "      <td>2.080000e+02</td>\n",
              "      <td>2.012000e+03</td>\n",
              "      <td>1.200000e+01</td>\n",
              "      <td>3.100000e+01</td>\n",
              "      <td>6.000000e+00</td>\n",
              "      <td>2.300000e+01</td>\n",
              "    </tr>\n",
              "  </tbody>\n",
              "</table>\n",
              "</div>\n",
              "      <button class=\"colab-df-convert\" onclick=\"convertToInteractive('df-cec26616-5d5d-4eb8-b83c-47adf334a617')\"\n",
              "              title=\"Convert this dataframe to an interactive table.\"\n",
              "              style=\"display:none;\">\n",
              "        \n",
              "  <svg xmlns=\"http://www.w3.org/2000/svg\" height=\"24px\"viewBox=\"0 0 24 24\"\n",
              "       width=\"24px\">\n",
              "    <path d=\"M0 0h24v24H0V0z\" fill=\"none\"/>\n",
              "    <path d=\"M18.56 5.44l.94 2.06.94-2.06 2.06-.94-2.06-.94-.94-2.06-.94 2.06-2.06.94zm-11 1L8.5 8.5l.94-2.06 2.06-.94-2.06-.94L8.5 2.5l-.94 2.06-2.06.94zm10 10l.94 2.06.94-2.06 2.06-.94-2.06-.94-.94-2.06-.94 2.06-2.06.94z\"/><path d=\"M17.41 7.96l-1.37-1.37c-.4-.4-.92-.59-1.43-.59-.52 0-1.04.2-1.43.59L10.3 9.45l-7.72 7.72c-.78.78-.78 2.05 0 2.83L4 21.41c.39.39.9.59 1.41.59.51 0 1.02-.2 1.41-.59l7.78-7.78 2.81-2.81c.8-.78.8-2.07 0-2.86zM5.41 20L4 18.59l7.72-7.72 1.47 1.35L5.41 20z\"/>\n",
              "  </svg>\n",
              "      </button>\n",
              "      \n",
              "  <style>\n",
              "    .colab-df-container {\n",
              "      display:flex;\n",
              "      flex-wrap:wrap;\n",
              "      gap: 12px;\n",
              "    }\n",
              "\n",
              "    .colab-df-convert {\n",
              "      background-color: #E8F0FE;\n",
              "      border: none;\n",
              "      border-radius: 50%;\n",
              "      cursor: pointer;\n",
              "      display: none;\n",
              "      fill: #1967D2;\n",
              "      height: 32px;\n",
              "      padding: 0 0 0 0;\n",
              "      width: 32px;\n",
              "    }\n",
              "\n",
              "    .colab-df-convert:hover {\n",
              "      background-color: #E2EBFA;\n",
              "      box-shadow: 0px 1px 2px rgba(60, 64, 67, 0.3), 0px 1px 3px 1px rgba(60, 64, 67, 0.15);\n",
              "      fill: #174EA6;\n",
              "    }\n",
              "\n",
              "    [theme=dark] .colab-df-convert {\n",
              "      background-color: #3B4455;\n",
              "      fill: #D2E3FC;\n",
              "    }\n",
              "\n",
              "    [theme=dark] .colab-df-convert:hover {\n",
              "      background-color: #434B5C;\n",
              "      box-shadow: 0px 1px 3px 1px rgba(0, 0, 0, 0.15);\n",
              "      filter: drop-shadow(0px 1px 2px rgba(0, 0, 0, 0.3));\n",
              "      fill: #FFFFFF;\n",
              "    }\n",
              "  </style>\n",
              "\n",
              "      <script>\n",
              "        const buttonEl =\n",
              "          document.querySelector('#df-cec26616-5d5d-4eb8-b83c-47adf334a617 button.colab-df-convert');\n",
              "        buttonEl.style.display =\n",
              "          google.colab.kernel.accessAllowed ? 'block' : 'none';\n",
              "\n",
              "        async function convertToInteractive(key) {\n",
              "          const element = document.querySelector('#df-cec26616-5d5d-4eb8-b83c-47adf334a617');\n",
              "          const dataTable =\n",
              "            await google.colab.kernel.invokeFunction('convertToInteractive',\n",
              "                                                     [key], {});\n",
              "          if (!dataTable) return;\n",
              "\n",
              "          const docLinkHtml = 'Like what you see? Visit the ' +\n",
              "            '<a target=\"_blank\" href=https://colab.research.google.com/notebooks/data_table.ipynb>data table notebook</a>'\n",
              "            + ' to learn more about interactive tables.';\n",
              "          element.innerHTML = '';\n",
              "          dataTable['output_type'] = 'display_data';\n",
              "          await google.colab.output.renderOutput(dataTable, element);\n",
              "          const docLink = document.createElement('div');\n",
              "          docLink.innerHTML = docLinkHtml;\n",
              "          element.appendChild(docLink);\n",
              "        }\n",
              "      </script>\n",
              "    </div>\n",
              "  </div>\n",
              "  "
            ]
          },
          "metadata": {},
          "execution_count": 6
        }
      ]
    },
    {
      "cell_type": "code",
      "source": [
        "train_df.isna().sum()"
      ],
      "metadata": {
        "colab": {
          "base_uri": "https://localhost:8080/"
        },
        "id": "A4GTEcCCluGX",
        "outputId": "22c51201-95f5-4a1d-ed7d-a55153d54f07"
      },
      "execution_count": null,
      "outputs": [
        {
          "output_type": "execute_result",
          "data": {
            "text/plain": [
              "fare_amount                0\n",
              "pickup_datetime            0\n",
              "pickup_longitude           0\n",
              "pickup_latitude            0\n",
              "dropoff_longitude          9\n",
              "dropoff_latitude           9\n",
              "passenger_count            0\n",
              "pickup_datetime_year       0\n",
              "pickup_datetime_month      0\n",
              "pickup_datetime_day        0\n",
              "pickup_datetime_weekday    0\n",
              "pickup_datetime_hour       0\n",
              "dtype: int64"
            ]
          },
          "metadata": {},
          "execution_count": 7
        }
      ]
    },
    {
      "cell_type": "markdown",
      "source": [
        "#### Originally there were 16 null values in those columns and some of them might be present in validation and test set."
      ],
      "metadata": {
        "id": "LJTUOsSJgZJj"
      }
    },
    {
      "cell_type": "code",
      "source": [
        "train_df.loc[train_df.dropoff_longitude.isna(),]"
      ],
      "metadata": {
        "colab": {
          "base_uri": "https://localhost:8080/"
        },
        "id": "LMYUrZOrp6nH",
        "outputId": "70adb448-3409-4c97-f647-c6c5614f27f3"
      },
      "execution_count": null,
      "outputs": [
        {
          "output_type": "execute_result",
          "data": {
            "text/plain": [
              "         fare_amount           pickup_datetime  pickup_longitude  \\\n",
              "977790     10.320000 2011-12-10 08:55:32+00:00        -73.991989   \n",
              "1486196    19.920000 2011-11-14 13:24:03+00:00        -73.979828   \n",
              "2634367     8.500000 2011-06-30 11:57:47+00:00        -73.961800   \n",
              "666100      8.000000 2012-12-11 12:21:57+00:00        -73.977684   \n",
              "955084     21.600000 2012-12-11 13:01:46+00:00        -73.999222   \n",
              "1065485    17.500000 2012-12-11 12:09:48+00:00        -74.005547   \n",
              "2081500    22.200001 2012-12-13 14:45:57+00:00          0.000000   \n",
              "2310119    13.800000 2012-12-11 12:23:37+00:00        -73.990158   \n",
              "2608390    13.100000 2012-12-11 12:49:04+00:00        -73.999596   \n",
              "\n",
              "         pickup_latitude  dropoff_longitude  dropoff_latitude  \\\n",
              "977790         40.759422                NaN               NaN   \n",
              "1486196        40.765251                NaN               NaN   \n",
              "2634367        40.764301                NaN               NaN   \n",
              "666100         40.757519                NaN               NaN   \n",
              "955084         40.734257                NaN               NaN   \n",
              "1065485        40.726398                NaN               NaN   \n",
              "2081500         0.000000                NaN               NaN   \n",
              "2310119        40.751694                NaN               NaN   \n",
              "2608390        40.762009                NaN               NaN   \n",
              "\n",
              "         passenger_count  pickup_datetime_year  pickup_datetime_month  \\\n",
              "977790                 0                  2011                     12   \n",
              "1486196                0                  2011                     11   \n",
              "2634367                0                  2011                      6   \n",
              "666100                 0                  2012                     12   \n",
              "955084                 0                  2012                     12   \n",
              "1065485                0                  2012                     12   \n",
              "2081500                0                  2012                     12   \n",
              "2310119                0                  2012                     12   \n",
              "2608390                0                  2012                     12   \n",
              "\n",
              "         pickup_datetime_day  pickup_datetime_weekday  pickup_datetime_hour  \n",
              "977790                    10                        5                     8  \n",
              "1486196                   14                        0                    13  \n",
              "2634367                   30                        3                    11  \n",
              "666100                    11                        1                    12  \n",
              "955084                    11                        1                    13  \n",
              "1065485                   11                        1                    12  \n",
              "2081500                   13                        3                    14  \n",
              "2310119                   11                        1                    12  \n",
              "2608390                   11                        1                    12  "
            ],
            "text/html": [
              "\n",
              "  <div id=\"df-fd5b69fc-43e3-4dd6-98d0-6e40ae9230fc\">\n",
              "    <div class=\"colab-df-container\">\n",
              "      <div>\n",
              "<style scoped>\n",
              "    .dataframe tbody tr th:only-of-type {\n",
              "        vertical-align: middle;\n",
              "    }\n",
              "\n",
              "    .dataframe tbody tr th {\n",
              "        vertical-align: top;\n",
              "    }\n",
              "\n",
              "    .dataframe thead th {\n",
              "        text-align: right;\n",
              "    }\n",
              "</style>\n",
              "<table border=\"1\" class=\"dataframe\">\n",
              "  <thead>\n",
              "    <tr style=\"text-align: right;\">\n",
              "      <th></th>\n",
              "      <th>fare_amount</th>\n",
              "      <th>pickup_datetime</th>\n",
              "      <th>pickup_longitude</th>\n",
              "      <th>pickup_latitude</th>\n",
              "      <th>dropoff_longitude</th>\n",
              "      <th>dropoff_latitude</th>\n",
              "      <th>passenger_count</th>\n",
              "      <th>pickup_datetime_year</th>\n",
              "      <th>pickup_datetime_month</th>\n",
              "      <th>pickup_datetime_day</th>\n",
              "      <th>pickup_datetime_weekday</th>\n",
              "      <th>pickup_datetime_hour</th>\n",
              "    </tr>\n",
              "  </thead>\n",
              "  <tbody>\n",
              "    <tr>\n",
              "      <th>977790</th>\n",
              "      <td>10.320000</td>\n",
              "      <td>2011-12-10 08:55:32+00:00</td>\n",
              "      <td>-73.991989</td>\n",
              "      <td>40.759422</td>\n",
              "      <td>NaN</td>\n",
              "      <td>NaN</td>\n",
              "      <td>0</td>\n",
              "      <td>2011</td>\n",
              "      <td>12</td>\n",
              "      <td>10</td>\n",
              "      <td>5</td>\n",
              "      <td>8</td>\n",
              "    </tr>\n",
              "    <tr>\n",
              "      <th>1486196</th>\n",
              "      <td>19.920000</td>\n",
              "      <td>2011-11-14 13:24:03+00:00</td>\n",
              "      <td>-73.979828</td>\n",
              "      <td>40.765251</td>\n",
              "      <td>NaN</td>\n",
              "      <td>NaN</td>\n",
              "      <td>0</td>\n",
              "      <td>2011</td>\n",
              "      <td>11</td>\n",
              "      <td>14</td>\n",
              "      <td>0</td>\n",
              "      <td>13</td>\n",
              "    </tr>\n",
              "    <tr>\n",
              "      <th>2634367</th>\n",
              "      <td>8.500000</td>\n",
              "      <td>2011-06-30 11:57:47+00:00</td>\n",
              "      <td>-73.961800</td>\n",
              "      <td>40.764301</td>\n",
              "      <td>NaN</td>\n",
              "      <td>NaN</td>\n",
              "      <td>0</td>\n",
              "      <td>2011</td>\n",
              "      <td>6</td>\n",
              "      <td>30</td>\n",
              "      <td>3</td>\n",
              "      <td>11</td>\n",
              "    </tr>\n",
              "    <tr>\n",
              "      <th>666100</th>\n",
              "      <td>8.000000</td>\n",
              "      <td>2012-12-11 12:21:57+00:00</td>\n",
              "      <td>-73.977684</td>\n",
              "      <td>40.757519</td>\n",
              "      <td>NaN</td>\n",
              "      <td>NaN</td>\n",
              "      <td>0</td>\n",
              "      <td>2012</td>\n",
              "      <td>12</td>\n",
              "      <td>11</td>\n",
              "      <td>1</td>\n",
              "      <td>12</td>\n",
              "    </tr>\n",
              "    <tr>\n",
              "      <th>955084</th>\n",
              "      <td>21.600000</td>\n",
              "      <td>2012-12-11 13:01:46+00:00</td>\n",
              "      <td>-73.999222</td>\n",
              "      <td>40.734257</td>\n",
              "      <td>NaN</td>\n",
              "      <td>NaN</td>\n",
              "      <td>0</td>\n",
              "      <td>2012</td>\n",
              "      <td>12</td>\n",
              "      <td>11</td>\n",
              "      <td>1</td>\n",
              "      <td>13</td>\n",
              "    </tr>\n",
              "    <tr>\n",
              "      <th>1065485</th>\n",
              "      <td>17.500000</td>\n",
              "      <td>2012-12-11 12:09:48+00:00</td>\n",
              "      <td>-74.005547</td>\n",
              "      <td>40.726398</td>\n",
              "      <td>NaN</td>\n",
              "      <td>NaN</td>\n",
              "      <td>0</td>\n",
              "      <td>2012</td>\n",
              "      <td>12</td>\n",
              "      <td>11</td>\n",
              "      <td>1</td>\n",
              "      <td>12</td>\n",
              "    </tr>\n",
              "    <tr>\n",
              "      <th>2081500</th>\n",
              "      <td>22.200001</td>\n",
              "      <td>2012-12-13 14:45:57+00:00</td>\n",
              "      <td>0.000000</td>\n",
              "      <td>0.000000</td>\n",
              "      <td>NaN</td>\n",
              "      <td>NaN</td>\n",
              "      <td>0</td>\n",
              "      <td>2012</td>\n",
              "      <td>12</td>\n",
              "      <td>13</td>\n",
              "      <td>3</td>\n",
              "      <td>14</td>\n",
              "    </tr>\n",
              "    <tr>\n",
              "      <th>2310119</th>\n",
              "      <td>13.800000</td>\n",
              "      <td>2012-12-11 12:23:37+00:00</td>\n",
              "      <td>-73.990158</td>\n",
              "      <td>40.751694</td>\n",
              "      <td>NaN</td>\n",
              "      <td>NaN</td>\n",
              "      <td>0</td>\n",
              "      <td>2012</td>\n",
              "      <td>12</td>\n",
              "      <td>11</td>\n",
              "      <td>1</td>\n",
              "      <td>12</td>\n",
              "    </tr>\n",
              "    <tr>\n",
              "      <th>2608390</th>\n",
              "      <td>13.100000</td>\n",
              "      <td>2012-12-11 12:49:04+00:00</td>\n",
              "      <td>-73.999596</td>\n",
              "      <td>40.762009</td>\n",
              "      <td>NaN</td>\n",
              "      <td>NaN</td>\n",
              "      <td>0</td>\n",
              "      <td>2012</td>\n",
              "      <td>12</td>\n",
              "      <td>11</td>\n",
              "      <td>1</td>\n",
              "      <td>12</td>\n",
              "    </tr>\n",
              "  </tbody>\n",
              "</table>\n",
              "</div>\n",
              "      <button class=\"colab-df-convert\" onclick=\"convertToInteractive('df-fd5b69fc-43e3-4dd6-98d0-6e40ae9230fc')\"\n",
              "              title=\"Convert this dataframe to an interactive table.\"\n",
              "              style=\"display:none;\">\n",
              "        \n",
              "  <svg xmlns=\"http://www.w3.org/2000/svg\" height=\"24px\"viewBox=\"0 0 24 24\"\n",
              "       width=\"24px\">\n",
              "    <path d=\"M0 0h24v24H0V0z\" fill=\"none\"/>\n",
              "    <path d=\"M18.56 5.44l.94 2.06.94-2.06 2.06-.94-2.06-.94-.94-2.06-.94 2.06-2.06.94zm-11 1L8.5 8.5l.94-2.06 2.06-.94-2.06-.94L8.5 2.5l-.94 2.06-2.06.94zm10 10l.94 2.06.94-2.06 2.06-.94-2.06-.94-.94-2.06-.94 2.06-2.06.94z\"/><path d=\"M17.41 7.96l-1.37-1.37c-.4-.4-.92-.59-1.43-.59-.52 0-1.04.2-1.43.59L10.3 9.45l-7.72 7.72c-.78.78-.78 2.05 0 2.83L4 21.41c.39.39.9.59 1.41.59.51 0 1.02-.2 1.41-.59l7.78-7.78 2.81-2.81c.8-.78.8-2.07 0-2.86zM5.41 20L4 18.59l7.72-7.72 1.47 1.35L5.41 20z\"/>\n",
              "  </svg>\n",
              "      </button>\n",
              "      \n",
              "  <style>\n",
              "    .colab-df-container {\n",
              "      display:flex;\n",
              "      flex-wrap:wrap;\n",
              "      gap: 12px;\n",
              "    }\n",
              "\n",
              "    .colab-df-convert {\n",
              "      background-color: #E8F0FE;\n",
              "      border: none;\n",
              "      border-radius: 50%;\n",
              "      cursor: pointer;\n",
              "      display: none;\n",
              "      fill: #1967D2;\n",
              "      height: 32px;\n",
              "      padding: 0 0 0 0;\n",
              "      width: 32px;\n",
              "    }\n",
              "\n",
              "    .colab-df-convert:hover {\n",
              "      background-color: #E2EBFA;\n",
              "      box-shadow: 0px 1px 2px rgba(60, 64, 67, 0.3), 0px 1px 3px 1px rgba(60, 64, 67, 0.15);\n",
              "      fill: #174EA6;\n",
              "    }\n",
              "\n",
              "    [theme=dark] .colab-df-convert {\n",
              "      background-color: #3B4455;\n",
              "      fill: #D2E3FC;\n",
              "    }\n",
              "\n",
              "    [theme=dark] .colab-df-convert:hover {\n",
              "      background-color: #434B5C;\n",
              "      box-shadow: 0px 1px 3px 1px rgba(0, 0, 0, 0.15);\n",
              "      filter: drop-shadow(0px 1px 2px rgba(0, 0, 0, 0.3));\n",
              "      fill: #FFFFFF;\n",
              "    }\n",
              "  </style>\n",
              "\n",
              "      <script>\n",
              "        const buttonEl =\n",
              "          document.querySelector('#df-fd5b69fc-43e3-4dd6-98d0-6e40ae9230fc button.colab-df-convert');\n",
              "        buttonEl.style.display =\n",
              "          google.colab.kernel.accessAllowed ? 'block' : 'none';\n",
              "\n",
              "        async function convertToInteractive(key) {\n",
              "          const element = document.querySelector('#df-fd5b69fc-43e3-4dd6-98d0-6e40ae9230fc');\n",
              "          const dataTable =\n",
              "            await google.colab.kernel.invokeFunction('convertToInteractive',\n",
              "                                                     [key], {});\n",
              "          if (!dataTable) return;\n",
              "\n",
              "          const docLinkHtml = 'Like what you see? Visit the ' +\n",
              "            '<a target=\"_blank\" href=https://colab.research.google.com/notebooks/data_table.ipynb>data table notebook</a>'\n",
              "            + ' to learn more about interactive tables.';\n",
              "          element.innerHTML = '';\n",
              "          dataTable['output_type'] = 'display_data';\n",
              "          await google.colab.output.renderOutput(dataTable, element);\n",
              "          const docLink = document.createElement('div');\n",
              "          docLink.innerHTML = docLinkHtml;\n",
              "          element.appendChild(docLink);\n",
              "        }\n",
              "      </script>\n",
              "    </div>\n",
              "  </div>\n",
              "  "
            ]
          },
          "metadata": {},
          "execution_count": 8
        }
      ]
    },
    {
      "cell_type": "code",
      "source": [
        "train_df.loc[train_df.dropoff_longitude.isna(),].describe()"
      ],
      "metadata": {
        "colab": {
          "base_uri": "https://localhost:8080/"
        },
        "id": "Iy-ExCyPnLuX",
        "outputId": "1ff2e0c1-efb5-473a-b1fc-96955f785cb1"
      },
      "execution_count": null,
      "outputs": [
        {
          "output_type": "execute_result",
          "data": {
            "text/plain": [
              "       fare_amount  pickup_longitude  pickup_latitude  dropoff_longitude  \\\n",
              "count     9.000000          9.000000         9.000000                0.0   \n",
              "mean     14.993334        -65.767311        36.224541                NaN   \n",
              "std       5.523342         24.662746        13.584209                NaN   \n",
              "min       8.000000        -74.005547         0.000000                NaN   \n",
              "25%      10.320000        -73.999222        40.734257                NaN   \n",
              "50%      13.800000        -73.990158        40.757519                NaN   \n",
              "75%      19.920000        -73.977684        40.762009                NaN   \n",
              "max      22.200001          0.000000        40.765251                NaN   \n",
              "\n",
              "       dropoff_latitude  passenger_count  pickup_datetime_year  \\\n",
              "count               0.0              9.0              9.000000   \n",
              "mean                NaN              0.0           2011.666667   \n",
              "std                 NaN              0.0              0.500000   \n",
              "min                 NaN              0.0           2011.000000   \n",
              "25%                 NaN              0.0           2011.000000   \n",
              "50%                 NaN              0.0           2012.000000   \n",
              "75%                 NaN              0.0           2012.000000   \n",
              "max                 NaN              0.0           2012.000000   \n",
              "\n",
              "       pickup_datetime_month  pickup_datetime_day  pickup_datetime_weekday  \\\n",
              "count               9.000000             9.000000                 9.000000   \n",
              "mean               11.222222            13.555556                 1.777778   \n",
              "std                 1.986063             6.287112                 1.563472   \n",
              "min                 6.000000            10.000000                 0.000000   \n",
              "25%                12.000000            11.000000                 1.000000   \n",
              "50%                12.000000            11.000000                 1.000000   \n",
              "75%                12.000000            13.000000                 3.000000   \n",
              "max                12.000000            30.000000                 5.000000   \n",
              "\n",
              "       pickup_datetime_hour  \n",
              "count              9.000000  \n",
              "mean              11.888889  \n",
              "std                1.691482  \n",
              "min                8.000000  \n",
              "25%               12.000000  \n",
              "50%               12.000000  \n",
              "75%               13.000000  \n",
              "max               14.000000  "
            ],
            "text/html": [
              "\n",
              "  <div id=\"df-fe4fed2c-6d06-488c-8748-ecabdad115bd\">\n",
              "    <div class=\"colab-df-container\">\n",
              "      <div>\n",
              "<style scoped>\n",
              "    .dataframe tbody tr th:only-of-type {\n",
              "        vertical-align: middle;\n",
              "    }\n",
              "\n",
              "    .dataframe tbody tr th {\n",
              "        vertical-align: top;\n",
              "    }\n",
              "\n",
              "    .dataframe thead th {\n",
              "        text-align: right;\n",
              "    }\n",
              "</style>\n",
              "<table border=\"1\" class=\"dataframe\">\n",
              "  <thead>\n",
              "    <tr style=\"text-align: right;\">\n",
              "      <th></th>\n",
              "      <th>fare_amount</th>\n",
              "      <th>pickup_longitude</th>\n",
              "      <th>pickup_latitude</th>\n",
              "      <th>dropoff_longitude</th>\n",
              "      <th>dropoff_latitude</th>\n",
              "      <th>passenger_count</th>\n",
              "      <th>pickup_datetime_year</th>\n",
              "      <th>pickup_datetime_month</th>\n",
              "      <th>pickup_datetime_day</th>\n",
              "      <th>pickup_datetime_weekday</th>\n",
              "      <th>pickup_datetime_hour</th>\n",
              "    </tr>\n",
              "  </thead>\n",
              "  <tbody>\n",
              "    <tr>\n",
              "      <th>count</th>\n",
              "      <td>9.000000</td>\n",
              "      <td>9.000000</td>\n",
              "      <td>9.000000</td>\n",
              "      <td>0.0</td>\n",
              "      <td>0.0</td>\n",
              "      <td>9.0</td>\n",
              "      <td>9.000000</td>\n",
              "      <td>9.000000</td>\n",
              "      <td>9.000000</td>\n",
              "      <td>9.000000</td>\n",
              "      <td>9.000000</td>\n",
              "    </tr>\n",
              "    <tr>\n",
              "      <th>mean</th>\n",
              "      <td>14.993334</td>\n",
              "      <td>-65.767311</td>\n",
              "      <td>36.224541</td>\n",
              "      <td>NaN</td>\n",
              "      <td>NaN</td>\n",
              "      <td>0.0</td>\n",
              "      <td>2011.666667</td>\n",
              "      <td>11.222222</td>\n",
              "      <td>13.555556</td>\n",
              "      <td>1.777778</td>\n",
              "      <td>11.888889</td>\n",
              "    </tr>\n",
              "    <tr>\n",
              "      <th>std</th>\n",
              "      <td>5.523342</td>\n",
              "      <td>24.662746</td>\n",
              "      <td>13.584209</td>\n",
              "      <td>NaN</td>\n",
              "      <td>NaN</td>\n",
              "      <td>0.0</td>\n",
              "      <td>0.500000</td>\n",
              "      <td>1.986063</td>\n",
              "      <td>6.287112</td>\n",
              "      <td>1.563472</td>\n",
              "      <td>1.691482</td>\n",
              "    </tr>\n",
              "    <tr>\n",
              "      <th>min</th>\n",
              "      <td>8.000000</td>\n",
              "      <td>-74.005547</td>\n",
              "      <td>0.000000</td>\n",
              "      <td>NaN</td>\n",
              "      <td>NaN</td>\n",
              "      <td>0.0</td>\n",
              "      <td>2011.000000</td>\n",
              "      <td>6.000000</td>\n",
              "      <td>10.000000</td>\n",
              "      <td>0.000000</td>\n",
              "      <td>8.000000</td>\n",
              "    </tr>\n",
              "    <tr>\n",
              "      <th>25%</th>\n",
              "      <td>10.320000</td>\n",
              "      <td>-73.999222</td>\n",
              "      <td>40.734257</td>\n",
              "      <td>NaN</td>\n",
              "      <td>NaN</td>\n",
              "      <td>0.0</td>\n",
              "      <td>2011.000000</td>\n",
              "      <td>12.000000</td>\n",
              "      <td>11.000000</td>\n",
              "      <td>1.000000</td>\n",
              "      <td>12.000000</td>\n",
              "    </tr>\n",
              "    <tr>\n",
              "      <th>50%</th>\n",
              "      <td>13.800000</td>\n",
              "      <td>-73.990158</td>\n",
              "      <td>40.757519</td>\n",
              "      <td>NaN</td>\n",
              "      <td>NaN</td>\n",
              "      <td>0.0</td>\n",
              "      <td>2012.000000</td>\n",
              "      <td>12.000000</td>\n",
              "      <td>11.000000</td>\n",
              "      <td>1.000000</td>\n",
              "      <td>12.000000</td>\n",
              "    </tr>\n",
              "    <tr>\n",
              "      <th>75%</th>\n",
              "      <td>19.920000</td>\n",
              "      <td>-73.977684</td>\n",
              "      <td>40.762009</td>\n",
              "      <td>NaN</td>\n",
              "      <td>NaN</td>\n",
              "      <td>0.0</td>\n",
              "      <td>2012.000000</td>\n",
              "      <td>12.000000</td>\n",
              "      <td>13.000000</td>\n",
              "      <td>3.000000</td>\n",
              "      <td>13.000000</td>\n",
              "    </tr>\n",
              "    <tr>\n",
              "      <th>max</th>\n",
              "      <td>22.200001</td>\n",
              "      <td>0.000000</td>\n",
              "      <td>40.765251</td>\n",
              "      <td>NaN</td>\n",
              "      <td>NaN</td>\n",
              "      <td>0.0</td>\n",
              "      <td>2012.000000</td>\n",
              "      <td>12.000000</td>\n",
              "      <td>30.000000</td>\n",
              "      <td>5.000000</td>\n",
              "      <td>14.000000</td>\n",
              "    </tr>\n",
              "  </tbody>\n",
              "</table>\n",
              "</div>\n",
              "      <button class=\"colab-df-convert\" onclick=\"convertToInteractive('df-fe4fed2c-6d06-488c-8748-ecabdad115bd')\"\n",
              "              title=\"Convert this dataframe to an interactive table.\"\n",
              "              style=\"display:none;\">\n",
              "        \n",
              "  <svg xmlns=\"http://www.w3.org/2000/svg\" height=\"24px\"viewBox=\"0 0 24 24\"\n",
              "       width=\"24px\">\n",
              "    <path d=\"M0 0h24v24H0V0z\" fill=\"none\"/>\n",
              "    <path d=\"M18.56 5.44l.94 2.06.94-2.06 2.06-.94-2.06-.94-.94-2.06-.94 2.06-2.06.94zm-11 1L8.5 8.5l.94-2.06 2.06-.94-2.06-.94L8.5 2.5l-.94 2.06-2.06.94zm10 10l.94 2.06.94-2.06 2.06-.94-2.06-.94-.94-2.06-.94 2.06-2.06.94z\"/><path d=\"M17.41 7.96l-1.37-1.37c-.4-.4-.92-.59-1.43-.59-.52 0-1.04.2-1.43.59L10.3 9.45l-7.72 7.72c-.78.78-.78 2.05 0 2.83L4 21.41c.39.39.9.59 1.41.59.51 0 1.02-.2 1.41-.59l7.78-7.78 2.81-2.81c.8-.78.8-2.07 0-2.86zM5.41 20L4 18.59l7.72-7.72 1.47 1.35L5.41 20z\"/>\n",
              "  </svg>\n",
              "      </button>\n",
              "      \n",
              "  <style>\n",
              "    .colab-df-container {\n",
              "      display:flex;\n",
              "      flex-wrap:wrap;\n",
              "      gap: 12px;\n",
              "    }\n",
              "\n",
              "    .colab-df-convert {\n",
              "      background-color: #E8F0FE;\n",
              "      border: none;\n",
              "      border-radius: 50%;\n",
              "      cursor: pointer;\n",
              "      display: none;\n",
              "      fill: #1967D2;\n",
              "      height: 32px;\n",
              "      padding: 0 0 0 0;\n",
              "      width: 32px;\n",
              "    }\n",
              "\n",
              "    .colab-df-convert:hover {\n",
              "      background-color: #E2EBFA;\n",
              "      box-shadow: 0px 1px 2px rgba(60, 64, 67, 0.3), 0px 1px 3px 1px rgba(60, 64, 67, 0.15);\n",
              "      fill: #174EA6;\n",
              "    }\n",
              "\n",
              "    [theme=dark] .colab-df-convert {\n",
              "      background-color: #3B4455;\n",
              "      fill: #D2E3FC;\n",
              "    }\n",
              "\n",
              "    [theme=dark] .colab-df-convert:hover {\n",
              "      background-color: #434B5C;\n",
              "      box-shadow: 0px 1px 3px 1px rgba(0, 0, 0, 0.15);\n",
              "      filter: drop-shadow(0px 1px 2px rgba(0, 0, 0, 0.3));\n",
              "      fill: #FFFFFF;\n",
              "    }\n",
              "  </style>\n",
              "\n",
              "      <script>\n",
              "        const buttonEl =\n",
              "          document.querySelector('#df-fe4fed2c-6d06-488c-8748-ecabdad115bd button.colab-df-convert');\n",
              "        buttonEl.style.display =\n",
              "          google.colab.kernel.accessAllowed ? 'block' : 'none';\n",
              "\n",
              "        async function convertToInteractive(key) {\n",
              "          const element = document.querySelector('#df-fe4fed2c-6d06-488c-8748-ecabdad115bd');\n",
              "          const dataTable =\n",
              "            await google.colab.kernel.invokeFunction('convertToInteractive',\n",
              "                                                     [key], {});\n",
              "          if (!dataTable) return;\n",
              "\n",
              "          const docLinkHtml = 'Like what you see? Visit the ' +\n",
              "            '<a target=\"_blank\" href=https://colab.research.google.com/notebooks/data_table.ipynb>data table notebook</a>'\n",
              "            + ' to learn more about interactive tables.';\n",
              "          element.innerHTML = '';\n",
              "          dataTable['output_type'] = 'display_data';\n",
              "          await google.colab.output.renderOutput(dataTable, element);\n",
              "          const docLink = document.createElement('div');\n",
              "          docLink.innerHTML = docLinkHtml;\n",
              "          element.appendChild(docLink);\n",
              "        }\n",
              "      </script>\n",
              "    </div>\n",
              "  </div>\n",
              "  "
            ]
          },
          "metadata": {},
          "execution_count": 9
        }
      ]
    },
    {
      "cell_type": "markdown",
      "source": [
        "## Remove Null values from `dropoff_longitude` and `dropoff_latitude`."
      ],
      "metadata": {
        "id": "7R2MvH3NqUAG"
      }
    },
    {
      "cell_type": "code",
      "source": [
        "train_df1 = train_df.dropna()"
      ],
      "metadata": {
        "id": "5ef2TugPnf8v"
      },
      "execution_count": null,
      "outputs": []
    },
    {
      "cell_type": "code",
      "source": [
        "train_df1.isna().sum()"
      ],
      "metadata": {
        "colab": {
          "base_uri": "https://localhost:8080/"
        },
        "id": "XdArFISNqdpe",
        "outputId": "c6a52d8d-170b-4f6e-f9ab-53627bc56e05"
      },
      "execution_count": null,
      "outputs": [
        {
          "output_type": "execute_result",
          "data": {
            "text/plain": [
              "fare_amount                0\n",
              "pickup_datetime            0\n",
              "pickup_longitude           0\n",
              "pickup_latitude            0\n",
              "dropoff_longitude          0\n",
              "dropoff_latitude           0\n",
              "passenger_count            0\n",
              "pickup_datetime_year       0\n",
              "pickup_datetime_month      0\n",
              "pickup_datetime_day        0\n",
              "pickup_datetime_weekday    0\n",
              "pickup_datetime_hour       0\n",
              "dtype: int64"
            ]
          },
          "metadata": {},
          "execution_count": 11
        }
      ]
    },
    {
      "cell_type": "markdown",
      "source": [
        "## Removing outliers in `pickup_longitude` `pickup_latitude` and `dropoff_longitude` `dropoff_latitude` and `passenger_count`."
      ],
      "metadata": {
        "id": "9X-vUOFzuKGe"
      }
    },
    {
      "cell_type": "markdown",
      "source": [
        "#### Setting up lower and higher ranges for filtering out outliers"
      ],
      "metadata": {
        "id": "aqgAURFTvKdw"
      }
    },
    {
      "cell_type": "code",
      "source": [
        "pickup_lon_low = train_df1[\"pickup_longitude\"].quantile(0.001)\n",
        "pickup_lon_high = train_df1[\"pickup_longitude\"].quantile(0.999)\n",
        "\n",
        "pickup_lat_low = train_df1[\"pickup_latitude\"].quantile(0.001)\n",
        "pickup_lat_high = train_df1[\"pickup_latitude\"].quantile(0.999)\n",
        "\n",
        "dropoff_lon_low = train_df1[\"dropoff_longitude\"].quantile(0.001)\n",
        "dropoff_lon_high = train_df1[\"dropoff_longitude\"].quantile(0.999)\n",
        "\n",
        "dropoff_lat_low = train_df1[\"dropoff_latitude\"].quantile(0.001)\n",
        "dropoff_lat_high = train_df1[\"dropoff_latitude\"].quantile(0.999)"
      ],
      "metadata": {
        "id": "NB4GsnDiqf6N"
      },
      "execution_count": null,
      "outputs": []
    },
    {
      "cell_type": "code",
      "source": [
        "train_df2 = train_df1.loc[(train_df1[\"pickup_longitude\"]>pickup_lon_low)&(train_df[\"pickup_longitude\"]<pickup_lon_high),]\n",
        "train_df3 = train_df2.loc[(train_df[\"pickup_latitude\"]>pickup_lat_low)&(train_df[\"pickup_latitude\"]<pickup_lat_high),]\n",
        "train_df4 = train_df3.loc[(train_df[\"dropoff_longitude\"]>dropoff_lon_low)&(train_df[\"dropoff_longitude\"]<dropoff_lon_high),]\n",
        "train_df_mod = train_df4.loc[(train_df[\"dropoff_latitude\"]>dropoff_lat_low)&(train_df[\"dropoff_latitude\"]<dropoff_lat_high),]"
      ],
      "metadata": {
        "id": "CIFXMyyIvSuU"
      },
      "execution_count": null,
      "outputs": []
    },
    {
      "cell_type": "code",
      "source": [
        "train_df_mod.describe()"
      ],
      "metadata": {
        "colab": {
          "base_uri": "https://localhost:8080/"
        },
        "id": "IpntqMd1wzVV",
        "outputId": "f8e1e0ab-f0e4-4252-8975-defe74a2bc1e"
      },
      "execution_count": null,
      "outputs": [
        {
          "output_type": "execute_result",
          "data": {
            "text/plain": [
              "        fare_amount  pickup_longitude  pickup_latitude  dropoff_longitude  \\\n",
              "count  1.692031e+06      1.692031e+06     1.692031e+06       1.692031e+06   \n",
              "mean   1.040812e+01     -7.396602e+01     4.074825e+01      -7.396556e+01   \n",
              "std    8.441167e+00      8.199587e-01     3.184218e-01       7.960032e-01   \n",
              "min   -5.000000e+01     -7.406762e+01     1.000000e-05      -7.417792e+01   \n",
              "25%    5.700000e+00     -7.399222e+01     4.073670e+01      -7.399157e+01   \n",
              "50%    7.700000e+00     -7.398209e+01     4.075349e+01      -7.398069e+01   \n",
              "75%    1.170000e+01     -7.396849e+01     4.076753e+01      -7.396587e+01   \n",
              "max    5.000000e+02     -5.000000e-06     4.087978e+01      -2.000000e-06   \n",
              "\n",
              "       dropoff_latitude  passenger_count  pickup_datetime_year  \\\n",
              "count      1.692031e+06     1.692031e+06          1.692031e+06   \n",
              "mean       4.074826e+01     1.675293e+00          2.010520e+03   \n",
              "std        3.316749e-01     1.274519e+00          1.122122e+00   \n",
              "min        8.000000e-06     0.000000e+00          2.009000e+03   \n",
              "25%        4.073583e+01     1.000000e+00          2.010000e+03   \n",
              "50%        4.075391e+01     1.000000e+00          2.011000e+03   \n",
              "75%        4.076833e+01     2.000000e+00          2.012000e+03   \n",
              "max        4.090434e+01     6.000000e+00          2.012000e+03   \n",
              "\n",
              "       pickup_datetime_month  pickup_datetime_day  pickup_datetime_weekday  \\\n",
              "count           1.692031e+06         1.692031e+06             1.692031e+06   \n",
              "mean            6.501468e+00         1.576043e+01             3.031291e+00   \n",
              "std             3.442358e+00         8.664017e+00             1.944582e+00   \n",
              "min             1.000000e+00         1.000000e+00             0.000000e+00   \n",
              "25%             4.000000e+00         8.000000e+00             1.000000e+00   \n",
              "50%             6.000000e+00         1.600000e+01             3.000000e+00   \n",
              "75%             1.000000e+01         2.300000e+01             5.000000e+00   \n",
              "max             1.200000e+01         3.100000e+01             6.000000e+00   \n",
              "\n",
              "       pickup_datetime_hour  \n",
              "count          1.692031e+06  \n",
              "mean           1.350240e+01  \n",
              "std            6.513868e+00  \n",
              "min            0.000000e+00  \n",
              "25%            9.000000e+00  \n",
              "50%            1.400000e+01  \n",
              "75%            1.900000e+01  \n",
              "max            2.300000e+01  "
            ],
            "text/html": [
              "\n",
              "  <div id=\"df-c1e103e2-8062-4c04-ae44-cda906fa9d5e\">\n",
              "    <div class=\"colab-df-container\">\n",
              "      <div>\n",
              "<style scoped>\n",
              "    .dataframe tbody tr th:only-of-type {\n",
              "        vertical-align: middle;\n",
              "    }\n",
              "\n",
              "    .dataframe tbody tr th {\n",
              "        vertical-align: top;\n",
              "    }\n",
              "\n",
              "    .dataframe thead th {\n",
              "        text-align: right;\n",
              "    }\n",
              "</style>\n",
              "<table border=\"1\" class=\"dataframe\">\n",
              "  <thead>\n",
              "    <tr style=\"text-align: right;\">\n",
              "      <th></th>\n",
              "      <th>fare_amount</th>\n",
              "      <th>pickup_longitude</th>\n",
              "      <th>pickup_latitude</th>\n",
              "      <th>dropoff_longitude</th>\n",
              "      <th>dropoff_latitude</th>\n",
              "      <th>passenger_count</th>\n",
              "      <th>pickup_datetime_year</th>\n",
              "      <th>pickup_datetime_month</th>\n",
              "      <th>pickup_datetime_day</th>\n",
              "      <th>pickup_datetime_weekday</th>\n",
              "      <th>pickup_datetime_hour</th>\n",
              "    </tr>\n",
              "  </thead>\n",
              "  <tbody>\n",
              "    <tr>\n",
              "      <th>count</th>\n",
              "      <td>1.692031e+06</td>\n",
              "      <td>1.692031e+06</td>\n",
              "      <td>1.692031e+06</td>\n",
              "      <td>1.692031e+06</td>\n",
              "      <td>1.692031e+06</td>\n",
              "      <td>1.692031e+06</td>\n",
              "      <td>1.692031e+06</td>\n",
              "      <td>1.692031e+06</td>\n",
              "      <td>1.692031e+06</td>\n",
              "      <td>1.692031e+06</td>\n",
              "      <td>1.692031e+06</td>\n",
              "    </tr>\n",
              "    <tr>\n",
              "      <th>mean</th>\n",
              "      <td>1.040812e+01</td>\n",
              "      <td>-7.396602e+01</td>\n",
              "      <td>4.074825e+01</td>\n",
              "      <td>-7.396556e+01</td>\n",
              "      <td>4.074826e+01</td>\n",
              "      <td>1.675293e+00</td>\n",
              "      <td>2.010520e+03</td>\n",
              "      <td>6.501468e+00</td>\n",
              "      <td>1.576043e+01</td>\n",
              "      <td>3.031291e+00</td>\n",
              "      <td>1.350240e+01</td>\n",
              "    </tr>\n",
              "    <tr>\n",
              "      <th>std</th>\n",
              "      <td>8.441167e+00</td>\n",
              "      <td>8.199587e-01</td>\n",
              "      <td>3.184218e-01</td>\n",
              "      <td>7.960032e-01</td>\n",
              "      <td>3.316749e-01</td>\n",
              "      <td>1.274519e+00</td>\n",
              "      <td>1.122122e+00</td>\n",
              "      <td>3.442358e+00</td>\n",
              "      <td>8.664017e+00</td>\n",
              "      <td>1.944582e+00</td>\n",
              "      <td>6.513868e+00</td>\n",
              "    </tr>\n",
              "    <tr>\n",
              "      <th>min</th>\n",
              "      <td>-5.000000e+01</td>\n",
              "      <td>-7.406762e+01</td>\n",
              "      <td>1.000000e-05</td>\n",
              "      <td>-7.417792e+01</td>\n",
              "      <td>8.000000e-06</td>\n",
              "      <td>0.000000e+00</td>\n",
              "      <td>2.009000e+03</td>\n",
              "      <td>1.000000e+00</td>\n",
              "      <td>1.000000e+00</td>\n",
              "      <td>0.000000e+00</td>\n",
              "      <td>0.000000e+00</td>\n",
              "    </tr>\n",
              "    <tr>\n",
              "      <th>25%</th>\n",
              "      <td>5.700000e+00</td>\n",
              "      <td>-7.399222e+01</td>\n",
              "      <td>4.073670e+01</td>\n",
              "      <td>-7.399157e+01</td>\n",
              "      <td>4.073583e+01</td>\n",
              "      <td>1.000000e+00</td>\n",
              "      <td>2.010000e+03</td>\n",
              "      <td>4.000000e+00</td>\n",
              "      <td>8.000000e+00</td>\n",
              "      <td>1.000000e+00</td>\n",
              "      <td>9.000000e+00</td>\n",
              "    </tr>\n",
              "    <tr>\n",
              "      <th>50%</th>\n",
              "      <td>7.700000e+00</td>\n",
              "      <td>-7.398209e+01</td>\n",
              "      <td>4.075349e+01</td>\n",
              "      <td>-7.398069e+01</td>\n",
              "      <td>4.075391e+01</td>\n",
              "      <td>1.000000e+00</td>\n",
              "      <td>2.011000e+03</td>\n",
              "      <td>6.000000e+00</td>\n",
              "      <td>1.600000e+01</td>\n",
              "      <td>3.000000e+00</td>\n",
              "      <td>1.400000e+01</td>\n",
              "    </tr>\n",
              "    <tr>\n",
              "      <th>75%</th>\n",
              "      <td>1.170000e+01</td>\n",
              "      <td>-7.396849e+01</td>\n",
              "      <td>4.076753e+01</td>\n",
              "      <td>-7.396587e+01</td>\n",
              "      <td>4.076833e+01</td>\n",
              "      <td>2.000000e+00</td>\n",
              "      <td>2.012000e+03</td>\n",
              "      <td>1.000000e+01</td>\n",
              "      <td>2.300000e+01</td>\n",
              "      <td>5.000000e+00</td>\n",
              "      <td>1.900000e+01</td>\n",
              "    </tr>\n",
              "    <tr>\n",
              "      <th>max</th>\n",
              "      <td>5.000000e+02</td>\n",
              "      <td>-5.000000e-06</td>\n",
              "      <td>4.087978e+01</td>\n",
              "      <td>-2.000000e-06</td>\n",
              "      <td>4.090434e+01</td>\n",
              "      <td>6.000000e+00</td>\n",
              "      <td>2.012000e+03</td>\n",
              "      <td>1.200000e+01</td>\n",
              "      <td>3.100000e+01</td>\n",
              "      <td>6.000000e+00</td>\n",
              "      <td>2.300000e+01</td>\n",
              "    </tr>\n",
              "  </tbody>\n",
              "</table>\n",
              "</div>\n",
              "      <button class=\"colab-df-convert\" onclick=\"convertToInteractive('df-c1e103e2-8062-4c04-ae44-cda906fa9d5e')\"\n",
              "              title=\"Convert this dataframe to an interactive table.\"\n",
              "              style=\"display:none;\">\n",
              "        \n",
              "  <svg xmlns=\"http://www.w3.org/2000/svg\" height=\"24px\"viewBox=\"0 0 24 24\"\n",
              "       width=\"24px\">\n",
              "    <path d=\"M0 0h24v24H0V0z\" fill=\"none\"/>\n",
              "    <path d=\"M18.56 5.44l.94 2.06.94-2.06 2.06-.94-2.06-.94-.94-2.06-.94 2.06-2.06.94zm-11 1L8.5 8.5l.94-2.06 2.06-.94-2.06-.94L8.5 2.5l-.94 2.06-2.06.94zm10 10l.94 2.06.94-2.06 2.06-.94-2.06-.94-.94-2.06-.94 2.06-2.06.94z\"/><path d=\"M17.41 7.96l-1.37-1.37c-.4-.4-.92-.59-1.43-.59-.52 0-1.04.2-1.43.59L10.3 9.45l-7.72 7.72c-.78.78-.78 2.05 0 2.83L4 21.41c.39.39.9.59 1.41.59.51 0 1.02-.2 1.41-.59l7.78-7.78 2.81-2.81c.8-.78.8-2.07 0-2.86zM5.41 20L4 18.59l7.72-7.72 1.47 1.35L5.41 20z\"/>\n",
              "  </svg>\n",
              "      </button>\n",
              "      \n",
              "  <style>\n",
              "    .colab-df-container {\n",
              "      display:flex;\n",
              "      flex-wrap:wrap;\n",
              "      gap: 12px;\n",
              "    }\n",
              "\n",
              "    .colab-df-convert {\n",
              "      background-color: #E8F0FE;\n",
              "      border: none;\n",
              "      border-radius: 50%;\n",
              "      cursor: pointer;\n",
              "      display: none;\n",
              "      fill: #1967D2;\n",
              "      height: 32px;\n",
              "      padding: 0 0 0 0;\n",
              "      width: 32px;\n",
              "    }\n",
              "\n",
              "    .colab-df-convert:hover {\n",
              "      background-color: #E2EBFA;\n",
              "      box-shadow: 0px 1px 2px rgba(60, 64, 67, 0.3), 0px 1px 3px 1px rgba(60, 64, 67, 0.15);\n",
              "      fill: #174EA6;\n",
              "    }\n",
              "\n",
              "    [theme=dark] .colab-df-convert {\n",
              "      background-color: #3B4455;\n",
              "      fill: #D2E3FC;\n",
              "    }\n",
              "\n",
              "    [theme=dark] .colab-df-convert:hover {\n",
              "      background-color: #434B5C;\n",
              "      box-shadow: 0px 1px 3px 1px rgba(0, 0, 0, 0.15);\n",
              "      filter: drop-shadow(0px 1px 2px rgba(0, 0, 0, 0.3));\n",
              "      fill: #FFFFFF;\n",
              "    }\n",
              "  </style>\n",
              "\n",
              "      <script>\n",
              "        const buttonEl =\n",
              "          document.querySelector('#df-c1e103e2-8062-4c04-ae44-cda906fa9d5e button.colab-df-convert');\n",
              "        buttonEl.style.display =\n",
              "          google.colab.kernel.accessAllowed ? 'block' : 'none';\n",
              "\n",
              "        async function convertToInteractive(key) {\n",
              "          const element = document.querySelector('#df-c1e103e2-8062-4c04-ae44-cda906fa9d5e');\n",
              "          const dataTable =\n",
              "            await google.colab.kernel.invokeFunction('convertToInteractive',\n",
              "                                                     [key], {});\n",
              "          if (!dataTable) return;\n",
              "\n",
              "          const docLinkHtml = 'Like what you see? Visit the ' +\n",
              "            '<a target=\"_blank\" href=https://colab.research.google.com/notebooks/data_table.ipynb>data table notebook</a>'\n",
              "            + ' to learn more about interactive tables.';\n",
              "          element.innerHTML = '';\n",
              "          dataTable['output_type'] = 'display_data';\n",
              "          await google.colab.output.renderOutput(dataTable, element);\n",
              "          const docLink = document.createElement('div');\n",
              "          docLink.innerHTML = docLinkHtml;\n",
              "          element.appendChild(docLink);\n",
              "        }\n",
              "      </script>\n",
              "    </div>\n",
              "  </div>\n",
              "  "
            ]
          },
          "metadata": {},
          "execution_count": 14
        }
      ]
    },
    {
      "cell_type": "markdown",
      "source": [
        "#### Let's round off the values in co-ordinates to get better describe "
      ],
      "metadata": {
        "id": "oztfzgl1x-r0"
      }
    },
    {
      "cell_type": "code",
      "source": [
        "train_df_mod[[\"pickup_longitude\",\"pickup_latitude\",\"dropoff_longitude\",\"dropoff_latitude\"]]= train_df_mod[[\"pickup_longitude\",\"pickup_latitude\",\"dropoff_longitude\",\"dropoff_latitude\"]].round(4)"
      ],
      "metadata": {
        "colab": {
          "base_uri": "https://localhost:8080/"
        },
        "id": "zYvl_tJ9w0_8",
        "outputId": "f771ab18-f7cc-4b56-bb64-72c557ac77e4"
      },
      "execution_count": null,
      "outputs": [
        {
          "output_type": "stream",
          "name": "stderr",
          "text": [
            "/usr/local/lib/python3.7/dist-packages/pandas/core/frame.py:3641: SettingWithCopyWarning: \n",
            "A value is trying to be set on a copy of a slice from a DataFrame.\n",
            "Try using .loc[row_indexer,col_indexer] = value instead\n",
            "\n",
            "See the caveats in the documentation: https://pandas.pydata.org/pandas-docs/stable/user_guide/indexing.html#returning-a-view-versus-a-copy\n",
            "  self[k1] = value[k2]\n"
          ]
        }
      ]
    },
    {
      "cell_type": "code",
      "source": [
        "train_df_mod.describe()"
      ],
      "metadata": {
        "colab": {
          "base_uri": "https://localhost:8080/"
        },
        "id": "K9lMe-eexXAE",
        "outputId": "db2be8c8-6bda-4447-ac92-627ccce74f0e"
      },
      "execution_count": null,
      "outputs": [
        {
          "output_type": "execute_result",
          "data": {
            "text/plain": [
              "        fare_amount  pickup_longitude  pickup_latitude  dropoff_longitude  \\\n",
              "count  1.692031e+06      1.692031e+06     1.692031e+06       1.692031e+06   \n",
              "mean   1.040812e+01     -7.396602e+01     4.074825e+01      -7.396556e+01   \n",
              "std    8.441167e+00      8.199586e-01     3.184218e-01       7.960032e-01   \n",
              "min   -5.000000e+01     -7.406760e+01     0.000000e+00      -7.417790e+01   \n",
              "25%    5.700000e+00     -7.399220e+01     4.073670e+01      -7.399160e+01   \n",
              "50%    7.700000e+00     -7.398210e+01     4.075350e+01      -7.398070e+01   \n",
              "75%    1.170000e+01     -7.396850e+01     4.076750e+01      -7.396590e+01   \n",
              "max    5.000000e+02     -0.000000e+00     4.087980e+01      -0.000000e+00   \n",
              "\n",
              "       dropoff_latitude  passenger_count  pickup_datetime_year  \\\n",
              "count      1.692031e+06     1.692031e+06          1.692031e+06   \n",
              "mean       4.074826e+01     1.675293e+00          2.010520e+03   \n",
              "std        3.316749e-01     1.274519e+00          1.122122e+00   \n",
              "min        0.000000e+00     0.000000e+00          2.009000e+03   \n",
              "25%        4.073580e+01     1.000000e+00          2.010000e+03   \n",
              "50%        4.075390e+01     1.000000e+00          2.011000e+03   \n",
              "75%        4.076830e+01     2.000000e+00          2.012000e+03   \n",
              "max        4.090430e+01     6.000000e+00          2.012000e+03   \n",
              "\n",
              "       pickup_datetime_month  pickup_datetime_day  pickup_datetime_weekday  \\\n",
              "count           1.692031e+06         1.692031e+06             1.692031e+06   \n",
              "mean            6.501468e+00         1.576043e+01             3.031291e+00   \n",
              "std             3.442358e+00         8.664017e+00             1.944582e+00   \n",
              "min             1.000000e+00         1.000000e+00             0.000000e+00   \n",
              "25%             4.000000e+00         8.000000e+00             1.000000e+00   \n",
              "50%             6.000000e+00         1.600000e+01             3.000000e+00   \n",
              "75%             1.000000e+01         2.300000e+01             5.000000e+00   \n",
              "max             1.200000e+01         3.100000e+01             6.000000e+00   \n",
              "\n",
              "       pickup_datetime_hour  \n",
              "count          1.692031e+06  \n",
              "mean           1.350240e+01  \n",
              "std            6.513868e+00  \n",
              "min            0.000000e+00  \n",
              "25%            9.000000e+00  \n",
              "50%            1.400000e+01  \n",
              "75%            1.900000e+01  \n",
              "max            2.300000e+01  "
            ],
            "text/html": [
              "\n",
              "  <div id=\"df-79b3f388-21a0-4155-965d-a8236a224b29\">\n",
              "    <div class=\"colab-df-container\">\n",
              "      <div>\n",
              "<style scoped>\n",
              "    .dataframe tbody tr th:only-of-type {\n",
              "        vertical-align: middle;\n",
              "    }\n",
              "\n",
              "    .dataframe tbody tr th {\n",
              "        vertical-align: top;\n",
              "    }\n",
              "\n",
              "    .dataframe thead th {\n",
              "        text-align: right;\n",
              "    }\n",
              "</style>\n",
              "<table border=\"1\" class=\"dataframe\">\n",
              "  <thead>\n",
              "    <tr style=\"text-align: right;\">\n",
              "      <th></th>\n",
              "      <th>fare_amount</th>\n",
              "      <th>pickup_longitude</th>\n",
              "      <th>pickup_latitude</th>\n",
              "      <th>dropoff_longitude</th>\n",
              "      <th>dropoff_latitude</th>\n",
              "      <th>passenger_count</th>\n",
              "      <th>pickup_datetime_year</th>\n",
              "      <th>pickup_datetime_month</th>\n",
              "      <th>pickup_datetime_day</th>\n",
              "      <th>pickup_datetime_weekday</th>\n",
              "      <th>pickup_datetime_hour</th>\n",
              "    </tr>\n",
              "  </thead>\n",
              "  <tbody>\n",
              "    <tr>\n",
              "      <th>count</th>\n",
              "      <td>1.692031e+06</td>\n",
              "      <td>1.692031e+06</td>\n",
              "      <td>1.692031e+06</td>\n",
              "      <td>1.692031e+06</td>\n",
              "      <td>1.692031e+06</td>\n",
              "      <td>1.692031e+06</td>\n",
              "      <td>1.692031e+06</td>\n",
              "      <td>1.692031e+06</td>\n",
              "      <td>1.692031e+06</td>\n",
              "      <td>1.692031e+06</td>\n",
              "      <td>1.692031e+06</td>\n",
              "    </tr>\n",
              "    <tr>\n",
              "      <th>mean</th>\n",
              "      <td>1.040812e+01</td>\n",
              "      <td>-7.396602e+01</td>\n",
              "      <td>4.074825e+01</td>\n",
              "      <td>-7.396556e+01</td>\n",
              "      <td>4.074826e+01</td>\n",
              "      <td>1.675293e+00</td>\n",
              "      <td>2.010520e+03</td>\n",
              "      <td>6.501468e+00</td>\n",
              "      <td>1.576043e+01</td>\n",
              "      <td>3.031291e+00</td>\n",
              "      <td>1.350240e+01</td>\n",
              "    </tr>\n",
              "    <tr>\n",
              "      <th>std</th>\n",
              "      <td>8.441167e+00</td>\n",
              "      <td>8.199586e-01</td>\n",
              "      <td>3.184218e-01</td>\n",
              "      <td>7.960032e-01</td>\n",
              "      <td>3.316749e-01</td>\n",
              "      <td>1.274519e+00</td>\n",
              "      <td>1.122122e+00</td>\n",
              "      <td>3.442358e+00</td>\n",
              "      <td>8.664017e+00</td>\n",
              "      <td>1.944582e+00</td>\n",
              "      <td>6.513868e+00</td>\n",
              "    </tr>\n",
              "    <tr>\n",
              "      <th>min</th>\n",
              "      <td>-5.000000e+01</td>\n",
              "      <td>-7.406760e+01</td>\n",
              "      <td>0.000000e+00</td>\n",
              "      <td>-7.417790e+01</td>\n",
              "      <td>0.000000e+00</td>\n",
              "      <td>0.000000e+00</td>\n",
              "      <td>2.009000e+03</td>\n",
              "      <td>1.000000e+00</td>\n",
              "      <td>1.000000e+00</td>\n",
              "      <td>0.000000e+00</td>\n",
              "      <td>0.000000e+00</td>\n",
              "    </tr>\n",
              "    <tr>\n",
              "      <th>25%</th>\n",
              "      <td>5.700000e+00</td>\n",
              "      <td>-7.399220e+01</td>\n",
              "      <td>4.073670e+01</td>\n",
              "      <td>-7.399160e+01</td>\n",
              "      <td>4.073580e+01</td>\n",
              "      <td>1.000000e+00</td>\n",
              "      <td>2.010000e+03</td>\n",
              "      <td>4.000000e+00</td>\n",
              "      <td>8.000000e+00</td>\n",
              "      <td>1.000000e+00</td>\n",
              "      <td>9.000000e+00</td>\n",
              "    </tr>\n",
              "    <tr>\n",
              "      <th>50%</th>\n",
              "      <td>7.700000e+00</td>\n",
              "      <td>-7.398210e+01</td>\n",
              "      <td>4.075350e+01</td>\n",
              "      <td>-7.398070e+01</td>\n",
              "      <td>4.075390e+01</td>\n",
              "      <td>1.000000e+00</td>\n",
              "      <td>2.011000e+03</td>\n",
              "      <td>6.000000e+00</td>\n",
              "      <td>1.600000e+01</td>\n",
              "      <td>3.000000e+00</td>\n",
              "      <td>1.400000e+01</td>\n",
              "    </tr>\n",
              "    <tr>\n",
              "      <th>75%</th>\n",
              "      <td>1.170000e+01</td>\n",
              "      <td>-7.396850e+01</td>\n",
              "      <td>4.076750e+01</td>\n",
              "      <td>-7.396590e+01</td>\n",
              "      <td>4.076830e+01</td>\n",
              "      <td>2.000000e+00</td>\n",
              "      <td>2.012000e+03</td>\n",
              "      <td>1.000000e+01</td>\n",
              "      <td>2.300000e+01</td>\n",
              "      <td>5.000000e+00</td>\n",
              "      <td>1.900000e+01</td>\n",
              "    </tr>\n",
              "    <tr>\n",
              "      <th>max</th>\n",
              "      <td>5.000000e+02</td>\n",
              "      <td>-0.000000e+00</td>\n",
              "      <td>4.087980e+01</td>\n",
              "      <td>-0.000000e+00</td>\n",
              "      <td>4.090430e+01</td>\n",
              "      <td>6.000000e+00</td>\n",
              "      <td>2.012000e+03</td>\n",
              "      <td>1.200000e+01</td>\n",
              "      <td>3.100000e+01</td>\n",
              "      <td>6.000000e+00</td>\n",
              "      <td>2.300000e+01</td>\n",
              "    </tr>\n",
              "  </tbody>\n",
              "</table>\n",
              "</div>\n",
              "      <button class=\"colab-df-convert\" onclick=\"convertToInteractive('df-79b3f388-21a0-4155-965d-a8236a224b29')\"\n",
              "              title=\"Convert this dataframe to an interactive table.\"\n",
              "              style=\"display:none;\">\n",
              "        \n",
              "  <svg xmlns=\"http://www.w3.org/2000/svg\" height=\"24px\"viewBox=\"0 0 24 24\"\n",
              "       width=\"24px\">\n",
              "    <path d=\"M0 0h24v24H0V0z\" fill=\"none\"/>\n",
              "    <path d=\"M18.56 5.44l.94 2.06.94-2.06 2.06-.94-2.06-.94-.94-2.06-.94 2.06-2.06.94zm-11 1L8.5 8.5l.94-2.06 2.06-.94-2.06-.94L8.5 2.5l-.94 2.06-2.06.94zm10 10l.94 2.06.94-2.06 2.06-.94-2.06-.94-.94-2.06-.94 2.06-2.06.94z\"/><path d=\"M17.41 7.96l-1.37-1.37c-.4-.4-.92-.59-1.43-.59-.52 0-1.04.2-1.43.59L10.3 9.45l-7.72 7.72c-.78.78-.78 2.05 0 2.83L4 21.41c.39.39.9.59 1.41.59.51 0 1.02-.2 1.41-.59l7.78-7.78 2.81-2.81c.8-.78.8-2.07 0-2.86zM5.41 20L4 18.59l7.72-7.72 1.47 1.35L5.41 20z\"/>\n",
              "  </svg>\n",
              "      </button>\n",
              "      \n",
              "  <style>\n",
              "    .colab-df-container {\n",
              "      display:flex;\n",
              "      flex-wrap:wrap;\n",
              "      gap: 12px;\n",
              "    }\n",
              "\n",
              "    .colab-df-convert {\n",
              "      background-color: #E8F0FE;\n",
              "      border: none;\n",
              "      border-radius: 50%;\n",
              "      cursor: pointer;\n",
              "      display: none;\n",
              "      fill: #1967D2;\n",
              "      height: 32px;\n",
              "      padding: 0 0 0 0;\n",
              "      width: 32px;\n",
              "    }\n",
              "\n",
              "    .colab-df-convert:hover {\n",
              "      background-color: #E2EBFA;\n",
              "      box-shadow: 0px 1px 2px rgba(60, 64, 67, 0.3), 0px 1px 3px 1px rgba(60, 64, 67, 0.15);\n",
              "      fill: #174EA6;\n",
              "    }\n",
              "\n",
              "    [theme=dark] .colab-df-convert {\n",
              "      background-color: #3B4455;\n",
              "      fill: #D2E3FC;\n",
              "    }\n",
              "\n",
              "    [theme=dark] .colab-df-convert:hover {\n",
              "      background-color: #434B5C;\n",
              "      box-shadow: 0px 1px 3px 1px rgba(0, 0, 0, 0.15);\n",
              "      filter: drop-shadow(0px 1px 2px rgba(0, 0, 0, 0.3));\n",
              "      fill: #FFFFFF;\n",
              "    }\n",
              "  </style>\n",
              "\n",
              "      <script>\n",
              "        const buttonEl =\n",
              "          document.querySelector('#df-79b3f388-21a0-4155-965d-a8236a224b29 button.colab-df-convert');\n",
              "        buttonEl.style.display =\n",
              "          google.colab.kernel.accessAllowed ? 'block' : 'none';\n",
              "\n",
              "        async function convertToInteractive(key) {\n",
              "          const element = document.querySelector('#df-79b3f388-21a0-4155-965d-a8236a224b29');\n",
              "          const dataTable =\n",
              "            await google.colab.kernel.invokeFunction('convertToInteractive',\n",
              "                                                     [key], {});\n",
              "          if (!dataTable) return;\n",
              "\n",
              "          const docLinkHtml = 'Like what you see? Visit the ' +\n",
              "            '<a target=\"_blank\" href=https://colab.research.google.com/notebooks/data_table.ipynb>data table notebook</a>'\n",
              "            + ' to learn more about interactive tables.';\n",
              "          element.innerHTML = '';\n",
              "          dataTable['output_type'] = 'display_data';\n",
              "          await google.colab.output.renderOutput(dataTable, element);\n",
              "          const docLink = document.createElement('div');\n",
              "          docLink.innerHTML = docLinkHtml;\n",
              "          element.appendChild(docLink);\n",
              "        }\n",
              "      </script>\n",
              "    </div>\n",
              "  </div>\n",
              "  "
            ]
          },
          "metadata": {},
          "execution_count": 16
        }
      ]
    },
    {
      "cell_type": "markdown",
      "source": [
        "#### Outlier in `passenger_count`.\n",
        "It must have been filtered out with unusual co-ordinate values."
      ],
      "metadata": {
        "id": "HUlt_1Ph0Fwz"
      }
    },
    {
      "cell_type": "code",
      "source": [
        "index = train_df.loc[train_df[\"passenger_count\"]==208,].index"
      ],
      "metadata": {
        "id": "rXRPd21RxhZU"
      },
      "execution_count": null,
      "outputs": []
    },
    {
      "cell_type": "code",
      "source": [
        "index"
      ],
      "metadata": {
        "colab": {
          "base_uri": "https://localhost:8080/"
        },
        "id": "jFzLjAKoyj-M",
        "outputId": "320f2c0a-62d1-40f3-eefa-67f40ae1e401"
      },
      "execution_count": null,
      "outputs": [
        {
          "output_type": "execute_result",
          "data": {
            "text/plain": [
              "Int64Index([145519], dtype='int64')"
            ]
          },
          "metadata": {},
          "execution_count": 18
        }
      ]
    },
    {
      "cell_type": "code",
      "source": [
        "train_df.loc[145519,]"
      ],
      "metadata": {
        "colab": {
          "base_uri": "https://localhost:8080/"
        },
        "id": "4ZKQM-sfylbr",
        "outputId": "c2b4f7a3-69d9-4add-afa9-42b034256a97"
      },
      "execution_count": null,
      "outputs": [
        {
          "output_type": "execute_result",
          "data": {
            "text/plain": [
              "fare_amount                                      4.5\n",
              "pickup_datetime            2010-12-16 06:44:00+00:00\n",
              "pickup_longitude                                 0.0\n",
              "pickup_latitude                                  0.0\n",
              "dropoff_longitude                                0.0\n",
              "dropoff_latitude                                 0.0\n",
              "passenger_count                                  208\n",
              "pickup_datetime_year                            2010\n",
              "pickup_datetime_month                             12\n",
              "pickup_datetime_day                               16\n",
              "pickup_datetime_weekday                            3\n",
              "pickup_datetime_hour                               6\n",
              "Name: 145519, dtype: object"
            ]
          },
          "metadata": {},
          "execution_count": 19
        }
      ]
    },
    {
      "cell_type": "markdown",
      "source": [
        "#### Outlier in  target variable `fare_amount`"
      ],
      "metadata": {
        "id": "bhU-v3g20VnM"
      }
    },
    {
      "cell_type": "code",
      "source": [
        "train_df_mod.fare_amount.describe()"
      ],
      "metadata": {
        "colab": {
          "base_uri": "https://localhost:8080/"
        },
        "id": "1_NWp8Y_zxw0",
        "outputId": "0f3341dd-2e6d-4b82-fa4c-3396fd285866"
      },
      "execution_count": null,
      "outputs": [
        {
          "output_type": "execute_result",
          "data": {
            "text/plain": [
              "count    1.692031e+06\n",
              "mean     1.040812e+01\n",
              "std      8.441167e+00\n",
              "min     -5.000000e+01\n",
              "25%      5.700000e+00\n",
              "50%      7.700000e+00\n",
              "75%      1.170000e+01\n",
              "max      5.000000e+02\n",
              "Name: fare_amount, dtype: float64"
            ]
          },
          "metadata": {},
          "execution_count": 20
        }
      ]
    },
    {
      "cell_type": "code",
      "source": [
        "train_df_mod1 = train_df_mod.loc[train_df_mod.fare_amount>0,]"
      ],
      "metadata": {
        "id": "fJ2FQVpJ0duz"
      },
      "execution_count": null,
      "outputs": []
    },
    {
      "cell_type": "code",
      "source": [
        "train_df_mod1.describe()"
      ],
      "metadata": {
        "colab": {
          "base_uri": "https://localhost:8080/"
        },
        "id": "gP_hoyxg0rgD",
        "outputId": "44ab1da9-a991-405c-a2fc-21698fae87f4"
      },
      "execution_count": null,
      "outputs": [
        {
          "output_type": "execute_result",
          "data": {
            "text/plain": [
              "        fare_amount  pickup_longitude  pickup_latitude  dropoff_longitude  \\\n",
              "count  1.691969e+06      1.691969e+06     1.691969e+06       1.691969e+06   \n",
              "mean   1.040880e+01     -7.396602e+01     4.074824e+01      -7.396555e+01   \n",
              "std    8.440215e+00      8.199735e-01     3.184275e-01       7.960176e-01   \n",
              "min    1.000000e-02     -7.406760e+01     0.000000e+00      -7.417790e+01   \n",
              "25%    5.700000e+00     -7.399220e+01     4.073670e+01      -7.399160e+01   \n",
              "50%    7.700000e+00     -7.398210e+01     4.075350e+01      -7.398070e+01   \n",
              "75%    1.170000e+01     -7.396850e+01     4.076750e+01      -7.396590e+01   \n",
              "max    5.000000e+02     -0.000000e+00     4.087980e+01      -0.000000e+00   \n",
              "\n",
              "       dropoff_latitude  passenger_count  pickup_datetime_year  \\\n",
              "count      1.691969e+06     1.691969e+06          1.691969e+06   \n",
              "mean       4.074826e+01     1.675295e+00          2.010520e+03   \n",
              "std        3.316809e-01     1.274521e+00          1.122138e+00   \n",
              "min        0.000000e+00     0.000000e+00          2.009000e+03   \n",
              "25%        4.073580e+01     1.000000e+00          2.010000e+03   \n",
              "50%        4.075390e+01     1.000000e+00          2.011000e+03   \n",
              "75%        4.076830e+01     2.000000e+00          2.012000e+03   \n",
              "max        4.090430e+01     6.000000e+00          2.012000e+03   \n",
              "\n",
              "       pickup_datetime_month  pickup_datetime_day  pickup_datetime_weekday  \\\n",
              "count           1.691969e+06         1.691969e+06             1.691969e+06   \n",
              "mean            6.501614e+00         1.576037e+01             3.031287e+00   \n",
              "std             3.442335e+00         8.664081e+00             1.944572e+00   \n",
              "min             1.000000e+00         1.000000e+00             0.000000e+00   \n",
              "25%             4.000000e+00         8.000000e+00             1.000000e+00   \n",
              "50%             6.000000e+00         1.600000e+01             3.000000e+00   \n",
              "75%             1.000000e+01         2.300000e+01             5.000000e+00   \n",
              "max             1.200000e+01         3.100000e+01             6.000000e+00   \n",
              "\n",
              "       pickup_datetime_hour  \n",
              "count          1.691969e+06  \n",
              "mean           1.350245e+01  \n",
              "std            6.513853e+00  \n",
              "min            0.000000e+00  \n",
              "25%            9.000000e+00  \n",
              "50%            1.400000e+01  \n",
              "75%            1.900000e+01  \n",
              "max            2.300000e+01  "
            ],
            "text/html": [
              "\n",
              "  <div id=\"df-c51aab7f-5193-41dd-8582-ace03f294409\">\n",
              "    <div class=\"colab-df-container\">\n",
              "      <div>\n",
              "<style scoped>\n",
              "    .dataframe tbody tr th:only-of-type {\n",
              "        vertical-align: middle;\n",
              "    }\n",
              "\n",
              "    .dataframe tbody tr th {\n",
              "        vertical-align: top;\n",
              "    }\n",
              "\n",
              "    .dataframe thead th {\n",
              "        text-align: right;\n",
              "    }\n",
              "</style>\n",
              "<table border=\"1\" class=\"dataframe\">\n",
              "  <thead>\n",
              "    <tr style=\"text-align: right;\">\n",
              "      <th></th>\n",
              "      <th>fare_amount</th>\n",
              "      <th>pickup_longitude</th>\n",
              "      <th>pickup_latitude</th>\n",
              "      <th>dropoff_longitude</th>\n",
              "      <th>dropoff_latitude</th>\n",
              "      <th>passenger_count</th>\n",
              "      <th>pickup_datetime_year</th>\n",
              "      <th>pickup_datetime_month</th>\n",
              "      <th>pickup_datetime_day</th>\n",
              "      <th>pickup_datetime_weekday</th>\n",
              "      <th>pickup_datetime_hour</th>\n",
              "    </tr>\n",
              "  </thead>\n",
              "  <tbody>\n",
              "    <tr>\n",
              "      <th>count</th>\n",
              "      <td>1.691969e+06</td>\n",
              "      <td>1.691969e+06</td>\n",
              "      <td>1.691969e+06</td>\n",
              "      <td>1.691969e+06</td>\n",
              "      <td>1.691969e+06</td>\n",
              "      <td>1.691969e+06</td>\n",
              "      <td>1.691969e+06</td>\n",
              "      <td>1.691969e+06</td>\n",
              "      <td>1.691969e+06</td>\n",
              "      <td>1.691969e+06</td>\n",
              "      <td>1.691969e+06</td>\n",
              "    </tr>\n",
              "    <tr>\n",
              "      <th>mean</th>\n",
              "      <td>1.040880e+01</td>\n",
              "      <td>-7.396602e+01</td>\n",
              "      <td>4.074824e+01</td>\n",
              "      <td>-7.396555e+01</td>\n",
              "      <td>4.074826e+01</td>\n",
              "      <td>1.675295e+00</td>\n",
              "      <td>2.010520e+03</td>\n",
              "      <td>6.501614e+00</td>\n",
              "      <td>1.576037e+01</td>\n",
              "      <td>3.031287e+00</td>\n",
              "      <td>1.350245e+01</td>\n",
              "    </tr>\n",
              "    <tr>\n",
              "      <th>std</th>\n",
              "      <td>8.440215e+00</td>\n",
              "      <td>8.199735e-01</td>\n",
              "      <td>3.184275e-01</td>\n",
              "      <td>7.960176e-01</td>\n",
              "      <td>3.316809e-01</td>\n",
              "      <td>1.274521e+00</td>\n",
              "      <td>1.122138e+00</td>\n",
              "      <td>3.442335e+00</td>\n",
              "      <td>8.664081e+00</td>\n",
              "      <td>1.944572e+00</td>\n",
              "      <td>6.513853e+00</td>\n",
              "    </tr>\n",
              "    <tr>\n",
              "      <th>min</th>\n",
              "      <td>1.000000e-02</td>\n",
              "      <td>-7.406760e+01</td>\n",
              "      <td>0.000000e+00</td>\n",
              "      <td>-7.417790e+01</td>\n",
              "      <td>0.000000e+00</td>\n",
              "      <td>0.000000e+00</td>\n",
              "      <td>2.009000e+03</td>\n",
              "      <td>1.000000e+00</td>\n",
              "      <td>1.000000e+00</td>\n",
              "      <td>0.000000e+00</td>\n",
              "      <td>0.000000e+00</td>\n",
              "    </tr>\n",
              "    <tr>\n",
              "      <th>25%</th>\n",
              "      <td>5.700000e+00</td>\n",
              "      <td>-7.399220e+01</td>\n",
              "      <td>4.073670e+01</td>\n",
              "      <td>-7.399160e+01</td>\n",
              "      <td>4.073580e+01</td>\n",
              "      <td>1.000000e+00</td>\n",
              "      <td>2.010000e+03</td>\n",
              "      <td>4.000000e+00</td>\n",
              "      <td>8.000000e+00</td>\n",
              "      <td>1.000000e+00</td>\n",
              "      <td>9.000000e+00</td>\n",
              "    </tr>\n",
              "    <tr>\n",
              "      <th>50%</th>\n",
              "      <td>7.700000e+00</td>\n",
              "      <td>-7.398210e+01</td>\n",
              "      <td>4.075350e+01</td>\n",
              "      <td>-7.398070e+01</td>\n",
              "      <td>4.075390e+01</td>\n",
              "      <td>1.000000e+00</td>\n",
              "      <td>2.011000e+03</td>\n",
              "      <td>6.000000e+00</td>\n",
              "      <td>1.600000e+01</td>\n",
              "      <td>3.000000e+00</td>\n",
              "      <td>1.400000e+01</td>\n",
              "    </tr>\n",
              "    <tr>\n",
              "      <th>75%</th>\n",
              "      <td>1.170000e+01</td>\n",
              "      <td>-7.396850e+01</td>\n",
              "      <td>4.076750e+01</td>\n",
              "      <td>-7.396590e+01</td>\n",
              "      <td>4.076830e+01</td>\n",
              "      <td>2.000000e+00</td>\n",
              "      <td>2.012000e+03</td>\n",
              "      <td>1.000000e+01</td>\n",
              "      <td>2.300000e+01</td>\n",
              "      <td>5.000000e+00</td>\n",
              "      <td>1.900000e+01</td>\n",
              "    </tr>\n",
              "    <tr>\n",
              "      <th>max</th>\n",
              "      <td>5.000000e+02</td>\n",
              "      <td>-0.000000e+00</td>\n",
              "      <td>4.087980e+01</td>\n",
              "      <td>-0.000000e+00</td>\n",
              "      <td>4.090430e+01</td>\n",
              "      <td>6.000000e+00</td>\n",
              "      <td>2.012000e+03</td>\n",
              "      <td>1.200000e+01</td>\n",
              "      <td>3.100000e+01</td>\n",
              "      <td>6.000000e+00</td>\n",
              "      <td>2.300000e+01</td>\n",
              "    </tr>\n",
              "  </tbody>\n",
              "</table>\n",
              "</div>\n",
              "      <button class=\"colab-df-convert\" onclick=\"convertToInteractive('df-c51aab7f-5193-41dd-8582-ace03f294409')\"\n",
              "              title=\"Convert this dataframe to an interactive table.\"\n",
              "              style=\"display:none;\">\n",
              "        \n",
              "  <svg xmlns=\"http://www.w3.org/2000/svg\" height=\"24px\"viewBox=\"0 0 24 24\"\n",
              "       width=\"24px\">\n",
              "    <path d=\"M0 0h24v24H0V0z\" fill=\"none\"/>\n",
              "    <path d=\"M18.56 5.44l.94 2.06.94-2.06 2.06-.94-2.06-.94-.94-2.06-.94 2.06-2.06.94zm-11 1L8.5 8.5l.94-2.06 2.06-.94-2.06-.94L8.5 2.5l-.94 2.06-2.06.94zm10 10l.94 2.06.94-2.06 2.06-.94-2.06-.94-.94-2.06-.94 2.06-2.06.94z\"/><path d=\"M17.41 7.96l-1.37-1.37c-.4-.4-.92-.59-1.43-.59-.52 0-1.04.2-1.43.59L10.3 9.45l-7.72 7.72c-.78.78-.78 2.05 0 2.83L4 21.41c.39.39.9.59 1.41.59.51 0 1.02-.2 1.41-.59l7.78-7.78 2.81-2.81c.8-.78.8-2.07 0-2.86zM5.41 20L4 18.59l7.72-7.72 1.47 1.35L5.41 20z\"/>\n",
              "  </svg>\n",
              "      </button>\n",
              "      \n",
              "  <style>\n",
              "    .colab-df-container {\n",
              "      display:flex;\n",
              "      flex-wrap:wrap;\n",
              "      gap: 12px;\n",
              "    }\n",
              "\n",
              "    .colab-df-convert {\n",
              "      background-color: #E8F0FE;\n",
              "      border: none;\n",
              "      border-radius: 50%;\n",
              "      cursor: pointer;\n",
              "      display: none;\n",
              "      fill: #1967D2;\n",
              "      height: 32px;\n",
              "      padding: 0 0 0 0;\n",
              "      width: 32px;\n",
              "    }\n",
              "\n",
              "    .colab-df-convert:hover {\n",
              "      background-color: #E2EBFA;\n",
              "      box-shadow: 0px 1px 2px rgba(60, 64, 67, 0.3), 0px 1px 3px 1px rgba(60, 64, 67, 0.15);\n",
              "      fill: #174EA6;\n",
              "    }\n",
              "\n",
              "    [theme=dark] .colab-df-convert {\n",
              "      background-color: #3B4455;\n",
              "      fill: #D2E3FC;\n",
              "    }\n",
              "\n",
              "    [theme=dark] .colab-df-convert:hover {\n",
              "      background-color: #434B5C;\n",
              "      box-shadow: 0px 1px 3px 1px rgba(0, 0, 0, 0.15);\n",
              "      filter: drop-shadow(0px 1px 2px rgba(0, 0, 0, 0.3));\n",
              "      fill: #FFFFFF;\n",
              "    }\n",
              "  </style>\n",
              "\n",
              "      <script>\n",
              "        const buttonEl =\n",
              "          document.querySelector('#df-c51aab7f-5193-41dd-8582-ace03f294409 button.colab-df-convert');\n",
              "        buttonEl.style.display =\n",
              "          google.colab.kernel.accessAllowed ? 'block' : 'none';\n",
              "\n",
              "        async function convertToInteractive(key) {\n",
              "          const element = document.querySelector('#df-c51aab7f-5193-41dd-8582-ace03f294409');\n",
              "          const dataTable =\n",
              "            await google.colab.kernel.invokeFunction('convertToInteractive',\n",
              "                                                     [key], {});\n",
              "          if (!dataTable) return;\n",
              "\n",
              "          const docLinkHtml = 'Like what you see? Visit the ' +\n",
              "            '<a target=\"_blank\" href=https://colab.research.google.com/notebooks/data_table.ipynb>data table notebook</a>'\n",
              "            + ' to learn more about interactive tables.';\n",
              "          element.innerHTML = '';\n",
              "          dataTable['output_type'] = 'display_data';\n",
              "          await google.colab.output.renderOutput(dataTable, element);\n",
              "          const docLink = document.createElement('div');\n",
              "          docLink.innerHTML = docLinkHtml;\n",
              "          element.appendChild(docLink);\n",
              "        }\n",
              "      </script>\n",
              "    </div>\n",
              "  </div>\n",
              "  "
            ]
          },
          "metadata": {},
          "execution_count": 22
        }
      ]
    },
    {
      "cell_type": "markdown",
      "source": [
        "# Feature Engineering\n"
      ],
      "metadata": {
        "id": "Gw5OsvWS1NH9"
      }
    },
    {
      "cell_type": "markdown",
      "source": [
        "## Addition of new feature\n",
        "#### Adding new feature `trip_distance` which gives the distance of the trip of a particular ride. We will use function to convert pickup and dropoff geolocation co-ordinates into distance between those pickup and dropoff points."
      ],
      "metadata": {
        "id": "IU3w8v86hIZg"
      }
    },
    {
      "cell_type": "code",
      "source": [
        "def haversine_np(lon1, lat1, lon2, lat2):\n",
        "  # calculate the great circle distance between two points on the earth(specified in decimal degrees)\n",
        "  # All args must be of equal length.\n",
        "  lon1, lat1, lon2, lat2  = map(np.radians, [lon1, lat1, lon2, lat2])\n",
        "\n",
        "  dlon = lon2 - lon1\n",
        "  dlat = lat2 - lat1\n",
        "\n",
        "  a = np.sin(dlat/2.0)**2 + np.cos(lat1) * np.cos(lat2) * np.sin(dlon/2.0)**2\n",
        "\n",
        "  c = 2 * np.arcsin(np.sqrt(a))\n",
        "  km = 6367 * c\n",
        "  return km"
      ],
      "metadata": {
        "id": "GoR_gIWg0tXE"
      },
      "execution_count": null,
      "outputs": []
    },
    {
      "cell_type": "code",
      "source": [
        "def add_trip_distance(df):\n",
        "  df['trip_distance'] = haversine_np(df['pickup_longitude'],\n",
        "                                      df['pickup_latitude'],\n",
        "                                      df['dropoff_longitude'],\n",
        "                                      df['dropoff_latitude'])"
      ],
      "metadata": {
        "id": "CNNJZwBD1oqs"
      },
      "execution_count": null,
      "outputs": []
    },
    {
      "cell_type": "code",
      "source": [
        "add_trip_distance(train_df_mod1)"
      ],
      "metadata": {
        "colab": {
          "base_uri": "https://localhost:8080/"
        },
        "id": "TLFMHd771sky",
        "outputId": "595af923-3eec-414f-f624-b628921281eb"
      },
      "execution_count": null,
      "outputs": [
        {
          "output_type": "stream",
          "name": "stderr",
          "text": [
            "/usr/local/lib/python3.7/dist-packages/ipykernel_launcher.py:5: SettingWithCopyWarning: \n",
            "A value is trying to be set on a copy of a slice from a DataFrame.\n",
            "Try using .loc[row_indexer,col_indexer] = value instead\n",
            "\n",
            "See the caveats in the documentation: https://pandas.pydata.org/pandas-docs/stable/user_guide/indexing.html#returning-a-view-versus-a-copy\n",
            "  \"\"\"\n"
          ]
        }
      ]
    },
    {
      "cell_type": "code",
      "source": [
        "train_df_mod1.describe()"
      ],
      "metadata": {
        "colab": {
          "base_uri": "https://localhost:8080/"
        },
        "id": "05TrjsLi14Bq",
        "outputId": "b1fd956b-345e-4dc2-cbe5-a8e55d40afc3"
      },
      "execution_count": null,
      "outputs": [
        {
          "output_type": "execute_result",
          "data": {
            "text/plain": [
              "        fare_amount  pickup_longitude  pickup_latitude  dropoff_longitude  \\\n",
              "count  1.691969e+06      1.691969e+06     1.691969e+06       1.691969e+06   \n",
              "mean   1.040880e+01     -7.396602e+01     4.074824e+01      -7.396555e+01   \n",
              "std    8.440215e+00      8.199735e-01     3.184275e-01       7.960176e-01   \n",
              "min    1.000000e-02     -7.406760e+01     0.000000e+00      -7.417790e+01   \n",
              "25%    5.700000e+00     -7.399220e+01     4.073670e+01      -7.399160e+01   \n",
              "50%    7.700000e+00     -7.398210e+01     4.075350e+01      -7.398070e+01   \n",
              "75%    1.170000e+01     -7.396850e+01     4.076750e+01      -7.396590e+01   \n",
              "max    5.000000e+02     -0.000000e+00     4.087980e+01      -0.000000e+00   \n",
              "\n",
              "       dropoff_latitude  passenger_count  pickup_datetime_year  \\\n",
              "count      1.691969e+06     1.691969e+06          1.691969e+06   \n",
              "mean       4.074826e+01     1.675295e+00          2.010520e+03   \n",
              "std        3.316809e-01     1.274521e+00          1.122138e+00   \n",
              "min        0.000000e+00     0.000000e+00          2.009000e+03   \n",
              "25%        4.073580e+01     1.000000e+00          2.010000e+03   \n",
              "50%        4.075390e+01     1.000000e+00          2.011000e+03   \n",
              "75%        4.076830e+01     2.000000e+00          2.012000e+03   \n",
              "max        4.090430e+01     6.000000e+00          2.012000e+03   \n",
              "\n",
              "       pickup_datetime_month  pickup_datetime_day  pickup_datetime_weekday  \\\n",
              "count           1.691969e+06         1.691969e+06             1.691969e+06   \n",
              "mean            6.501614e+00         1.576037e+01             3.031287e+00   \n",
              "std             3.442335e+00         8.664081e+00             1.944572e+00   \n",
              "min             1.000000e+00         1.000000e+00             0.000000e+00   \n",
              "25%             4.000000e+00         8.000000e+00             1.000000e+00   \n",
              "50%             6.000000e+00         1.600000e+01             3.000000e+00   \n",
              "75%             1.000000e+01         2.300000e+01             5.000000e+00   \n",
              "max             1.200000e+01         3.100000e+01             6.000000e+00   \n",
              "\n",
              "       pickup_datetime_hour  trip_distance  \n",
              "count          1.691969e+06   1.691969e+06  \n",
              "mean           1.350245e+01   4.833371e+00  \n",
              "std            6.513853e+00   9.190954e+01  \n",
              "min            0.000000e+00   0.000000e+00  \n",
              "25%            9.000000e+00   1.245078e+00  \n",
              "50%            1.400000e+01   2.142630e+00  \n",
              "75%            1.900000e+01   3.873166e+00  \n",
              "max            2.300000e+01   8.615800e+03  "
            ],
            "text/html": [
              "\n",
              "  <div id=\"df-f5124be9-e8a2-477b-9966-0a3d20c05abb\">\n",
              "    <div class=\"colab-df-container\">\n",
              "      <div>\n",
              "<style scoped>\n",
              "    .dataframe tbody tr th:only-of-type {\n",
              "        vertical-align: middle;\n",
              "    }\n",
              "\n",
              "    .dataframe tbody tr th {\n",
              "        vertical-align: top;\n",
              "    }\n",
              "\n",
              "    .dataframe thead th {\n",
              "        text-align: right;\n",
              "    }\n",
              "</style>\n",
              "<table border=\"1\" class=\"dataframe\">\n",
              "  <thead>\n",
              "    <tr style=\"text-align: right;\">\n",
              "      <th></th>\n",
              "      <th>fare_amount</th>\n",
              "      <th>pickup_longitude</th>\n",
              "      <th>pickup_latitude</th>\n",
              "      <th>dropoff_longitude</th>\n",
              "      <th>dropoff_latitude</th>\n",
              "      <th>passenger_count</th>\n",
              "      <th>pickup_datetime_year</th>\n",
              "      <th>pickup_datetime_month</th>\n",
              "      <th>pickup_datetime_day</th>\n",
              "      <th>pickup_datetime_weekday</th>\n",
              "      <th>pickup_datetime_hour</th>\n",
              "      <th>trip_distance</th>\n",
              "    </tr>\n",
              "  </thead>\n",
              "  <tbody>\n",
              "    <tr>\n",
              "      <th>count</th>\n",
              "      <td>1.691969e+06</td>\n",
              "      <td>1.691969e+06</td>\n",
              "      <td>1.691969e+06</td>\n",
              "      <td>1.691969e+06</td>\n",
              "      <td>1.691969e+06</td>\n",
              "      <td>1.691969e+06</td>\n",
              "      <td>1.691969e+06</td>\n",
              "      <td>1.691969e+06</td>\n",
              "      <td>1.691969e+06</td>\n",
              "      <td>1.691969e+06</td>\n",
              "      <td>1.691969e+06</td>\n",
              "      <td>1.691969e+06</td>\n",
              "    </tr>\n",
              "    <tr>\n",
              "      <th>mean</th>\n",
              "      <td>1.040880e+01</td>\n",
              "      <td>-7.396602e+01</td>\n",
              "      <td>4.074824e+01</td>\n",
              "      <td>-7.396555e+01</td>\n",
              "      <td>4.074826e+01</td>\n",
              "      <td>1.675295e+00</td>\n",
              "      <td>2.010520e+03</td>\n",
              "      <td>6.501614e+00</td>\n",
              "      <td>1.576037e+01</td>\n",
              "      <td>3.031287e+00</td>\n",
              "      <td>1.350245e+01</td>\n",
              "      <td>4.833371e+00</td>\n",
              "    </tr>\n",
              "    <tr>\n",
              "      <th>std</th>\n",
              "      <td>8.440215e+00</td>\n",
              "      <td>8.199735e-01</td>\n",
              "      <td>3.184275e-01</td>\n",
              "      <td>7.960176e-01</td>\n",
              "      <td>3.316809e-01</td>\n",
              "      <td>1.274521e+00</td>\n",
              "      <td>1.122138e+00</td>\n",
              "      <td>3.442335e+00</td>\n",
              "      <td>8.664081e+00</td>\n",
              "      <td>1.944572e+00</td>\n",
              "      <td>6.513853e+00</td>\n",
              "      <td>9.190954e+01</td>\n",
              "    </tr>\n",
              "    <tr>\n",
              "      <th>min</th>\n",
              "      <td>1.000000e-02</td>\n",
              "      <td>-7.406760e+01</td>\n",
              "      <td>0.000000e+00</td>\n",
              "      <td>-7.417790e+01</td>\n",
              "      <td>0.000000e+00</td>\n",
              "      <td>0.000000e+00</td>\n",
              "      <td>2.009000e+03</td>\n",
              "      <td>1.000000e+00</td>\n",
              "      <td>1.000000e+00</td>\n",
              "      <td>0.000000e+00</td>\n",
              "      <td>0.000000e+00</td>\n",
              "      <td>0.000000e+00</td>\n",
              "    </tr>\n",
              "    <tr>\n",
              "      <th>25%</th>\n",
              "      <td>5.700000e+00</td>\n",
              "      <td>-7.399220e+01</td>\n",
              "      <td>4.073670e+01</td>\n",
              "      <td>-7.399160e+01</td>\n",
              "      <td>4.073580e+01</td>\n",
              "      <td>1.000000e+00</td>\n",
              "      <td>2.010000e+03</td>\n",
              "      <td>4.000000e+00</td>\n",
              "      <td>8.000000e+00</td>\n",
              "      <td>1.000000e+00</td>\n",
              "      <td>9.000000e+00</td>\n",
              "      <td>1.245078e+00</td>\n",
              "    </tr>\n",
              "    <tr>\n",
              "      <th>50%</th>\n",
              "      <td>7.700000e+00</td>\n",
              "      <td>-7.398210e+01</td>\n",
              "      <td>4.075350e+01</td>\n",
              "      <td>-7.398070e+01</td>\n",
              "      <td>4.075390e+01</td>\n",
              "      <td>1.000000e+00</td>\n",
              "      <td>2.011000e+03</td>\n",
              "      <td>6.000000e+00</td>\n",
              "      <td>1.600000e+01</td>\n",
              "      <td>3.000000e+00</td>\n",
              "      <td>1.400000e+01</td>\n",
              "      <td>2.142630e+00</td>\n",
              "    </tr>\n",
              "    <tr>\n",
              "      <th>75%</th>\n",
              "      <td>1.170000e+01</td>\n",
              "      <td>-7.396850e+01</td>\n",
              "      <td>4.076750e+01</td>\n",
              "      <td>-7.396590e+01</td>\n",
              "      <td>4.076830e+01</td>\n",
              "      <td>2.000000e+00</td>\n",
              "      <td>2.012000e+03</td>\n",
              "      <td>1.000000e+01</td>\n",
              "      <td>2.300000e+01</td>\n",
              "      <td>5.000000e+00</td>\n",
              "      <td>1.900000e+01</td>\n",
              "      <td>3.873166e+00</td>\n",
              "    </tr>\n",
              "    <tr>\n",
              "      <th>max</th>\n",
              "      <td>5.000000e+02</td>\n",
              "      <td>-0.000000e+00</td>\n",
              "      <td>4.087980e+01</td>\n",
              "      <td>-0.000000e+00</td>\n",
              "      <td>4.090430e+01</td>\n",
              "      <td>6.000000e+00</td>\n",
              "      <td>2.012000e+03</td>\n",
              "      <td>1.200000e+01</td>\n",
              "      <td>3.100000e+01</td>\n",
              "      <td>6.000000e+00</td>\n",
              "      <td>2.300000e+01</td>\n",
              "      <td>8.615800e+03</td>\n",
              "    </tr>\n",
              "  </tbody>\n",
              "</table>\n",
              "</div>\n",
              "      <button class=\"colab-df-convert\" onclick=\"convertToInteractive('df-f5124be9-e8a2-477b-9966-0a3d20c05abb')\"\n",
              "              title=\"Convert this dataframe to an interactive table.\"\n",
              "              style=\"display:none;\">\n",
              "        \n",
              "  <svg xmlns=\"http://www.w3.org/2000/svg\" height=\"24px\"viewBox=\"0 0 24 24\"\n",
              "       width=\"24px\">\n",
              "    <path d=\"M0 0h24v24H0V0z\" fill=\"none\"/>\n",
              "    <path d=\"M18.56 5.44l.94 2.06.94-2.06 2.06-.94-2.06-.94-.94-2.06-.94 2.06-2.06.94zm-11 1L8.5 8.5l.94-2.06 2.06-.94-2.06-.94L8.5 2.5l-.94 2.06-2.06.94zm10 10l.94 2.06.94-2.06 2.06-.94-2.06-.94-.94-2.06-.94 2.06-2.06.94z\"/><path d=\"M17.41 7.96l-1.37-1.37c-.4-.4-.92-.59-1.43-.59-.52 0-1.04.2-1.43.59L10.3 9.45l-7.72 7.72c-.78.78-.78 2.05 0 2.83L4 21.41c.39.39.9.59 1.41.59.51 0 1.02-.2 1.41-.59l7.78-7.78 2.81-2.81c.8-.78.8-2.07 0-2.86zM5.41 20L4 18.59l7.72-7.72 1.47 1.35L5.41 20z\"/>\n",
              "  </svg>\n",
              "      </button>\n",
              "      \n",
              "  <style>\n",
              "    .colab-df-container {\n",
              "      display:flex;\n",
              "      flex-wrap:wrap;\n",
              "      gap: 12px;\n",
              "    }\n",
              "\n",
              "    .colab-df-convert {\n",
              "      background-color: #E8F0FE;\n",
              "      border: none;\n",
              "      border-radius: 50%;\n",
              "      cursor: pointer;\n",
              "      display: none;\n",
              "      fill: #1967D2;\n",
              "      height: 32px;\n",
              "      padding: 0 0 0 0;\n",
              "      width: 32px;\n",
              "    }\n",
              "\n",
              "    .colab-df-convert:hover {\n",
              "      background-color: #E2EBFA;\n",
              "      box-shadow: 0px 1px 2px rgba(60, 64, 67, 0.3), 0px 1px 3px 1px rgba(60, 64, 67, 0.15);\n",
              "      fill: #174EA6;\n",
              "    }\n",
              "\n",
              "    [theme=dark] .colab-df-convert {\n",
              "      background-color: #3B4455;\n",
              "      fill: #D2E3FC;\n",
              "    }\n",
              "\n",
              "    [theme=dark] .colab-df-convert:hover {\n",
              "      background-color: #434B5C;\n",
              "      box-shadow: 0px 1px 3px 1px rgba(0, 0, 0, 0.15);\n",
              "      filter: drop-shadow(0px 1px 2px rgba(0, 0, 0, 0.3));\n",
              "      fill: #FFFFFF;\n",
              "    }\n",
              "  </style>\n",
              "\n",
              "      <script>\n",
              "        const buttonEl =\n",
              "          document.querySelector('#df-f5124be9-e8a2-477b-9966-0a3d20c05abb button.colab-df-convert');\n",
              "        buttonEl.style.display =\n",
              "          google.colab.kernel.accessAllowed ? 'block' : 'none';\n",
              "\n",
              "        async function convertToInteractive(key) {\n",
              "          const element = document.querySelector('#df-f5124be9-e8a2-477b-9966-0a3d20c05abb');\n",
              "          const dataTable =\n",
              "            await google.colab.kernel.invokeFunction('convertToInteractive',\n",
              "                                                     [key], {});\n",
              "          if (!dataTable) return;\n",
              "\n",
              "          const docLinkHtml = 'Like what you see? Visit the ' +\n",
              "            '<a target=\"_blank\" href=https://colab.research.google.com/notebooks/data_table.ipynb>data table notebook</a>'\n",
              "            + ' to learn more about interactive tables.';\n",
              "          element.innerHTML = '';\n",
              "          dataTable['output_type'] = 'display_data';\n",
              "          await google.colab.output.renderOutput(dataTable, element);\n",
              "          const docLink = document.createElement('div');\n",
              "          docLink.innerHTML = docLinkHtml;\n",
              "          element.appendChild(docLink);\n",
              "        }\n",
              "      </script>\n",
              "    </div>\n",
              "  </div>\n",
              "  "
            ]
          },
          "metadata": {},
          "execution_count": 26
        }
      ]
    },
    {
      "cell_type": "code",
      "source": [
        ""
      ],
      "metadata": {
        "id": "b56zsC0p3SiS"
      },
      "execution_count": null,
      "outputs": []
    },
    {
      "cell_type": "markdown",
      "source": [
        "# Define inputs and outputs for model"
      ],
      "metadata": {
        "id": "LUn-fiQL3NFS"
      }
    },
    {
      "cell_type": "markdown",
      "source": [
        "## First check the correlation of columns with target variable `fare_amount`."
      ],
      "metadata": {
        "id": "f_GdzsaT3TOr"
      }
    },
    {
      "cell_type": "code",
      "source": [
        "train_df_mod1.corr()"
      ],
      "metadata": {
        "colab": {
          "base_uri": "https://localhost:8080/",
          "height": 490
        },
        "id": "Itw37Obf1-1q",
        "outputId": "1b5ebfb5-8d97-4356-d1fe-4f9314c1cde0"
      },
      "execution_count": null,
      "outputs": [
        {
          "output_type": "execute_result",
          "data": {
            "text/plain": [
              "                         fare_amount  pickup_longitude  pickup_latitude  \\\n",
              "fare_amount                 1.000000          0.020592        -0.017504   \n",
              "pickup_longitude            0.020592          1.000000        -0.280249   \n",
              "pickup_latitude            -0.017504         -0.280249         1.000000   \n",
              "dropoff_longitude           0.015584          0.212870        -0.274150   \n",
              "dropoff_latitude           -0.016543         -0.256064         0.397163   \n",
              "passenger_count             0.014242          0.003693        -0.004398   \n",
              "pickup_datetime_year        0.046176          0.008948        -0.005922   \n",
              "pickup_datetime_month       0.044848          0.000920         0.001245   \n",
              "pickup_datetime_day         0.001635         -0.000592        -0.000877   \n",
              "pickup_datetime_weekday     0.006091         -0.000768        -0.003293   \n",
              "pickup_datetime_hour       -0.017488          0.001136         0.001667   \n",
              "trip_distance               0.034744          0.580933        -0.231677   \n",
              "\n",
              "                         dropoff_longitude  dropoff_latitude  passenger_count  \\\n",
              "fare_amount                       0.015584         -0.016543         0.014242   \n",
              "pickup_longitude                  0.212870         -0.256064         0.003693   \n",
              "pickup_latitude                  -0.274150          0.397163        -0.004398   \n",
              "dropoff_longitude                 1.000000         -0.270736         0.003866   \n",
              "dropoff_latitude                 -0.270736          1.000000        -0.003293   \n",
              "passenger_count                   0.003866         -0.003293         1.000000   \n",
              "pickup_datetime_year              0.009044         -0.005564        -0.003970   \n",
              "pickup_datetime_month            -0.000812         -0.000195         0.009020   \n",
              "pickup_datetime_day               0.000155         -0.000970         0.004551   \n",
              "pickup_datetime_weekday          -0.000201         -0.001181         0.040673   \n",
              "pickup_datetime_hour             -0.000281          0.000615         0.019075   \n",
              "trip_distance                     0.554258         -0.249297         0.005320   \n",
              "\n",
              "                         pickup_datetime_year  pickup_datetime_month  \\\n",
              "fare_amount                          0.046176               0.044848   \n",
              "pickup_longitude                     0.008948               0.000920   \n",
              "pickup_latitude                     -0.005922               0.001245   \n",
              "dropoff_longitude                    0.009044              -0.000812   \n",
              "dropoff_latitude                    -0.005564              -0.000195   \n",
              "passenger_count                     -0.003970               0.009020   \n",
              "pickup_datetime_year                 1.000000              -0.013893   \n",
              "pickup_datetime_month               -0.013893               1.000000   \n",
              "pickup_datetime_day                 -0.005841              -0.024994   \n",
              "pickup_datetime_weekday              0.003243              -0.006248   \n",
              "pickup_datetime_hour                -0.002963              -0.005966   \n",
              "trip_distance                        0.016623              -0.000597   \n",
              "\n",
              "                         pickup_datetime_day  pickup_datetime_weekday  \\\n",
              "fare_amount                         0.001635                 0.006091   \n",
              "pickup_longitude                   -0.000592                -0.000768   \n",
              "pickup_latitude                    -0.000877                -0.003293   \n",
              "dropoff_longitude                   0.000155                -0.000201   \n",
              "dropoff_latitude                   -0.000970                -0.001181   \n",
              "passenger_count                     0.004551                 0.040673   \n",
              "pickup_datetime_year               -0.005841                 0.003243   \n",
              "pickup_datetime_month              -0.024994                -0.006248   \n",
              "pickup_datetime_day                 1.000000                 0.004743   \n",
              "pickup_datetime_weekday             0.004743                 1.000000   \n",
              "pickup_datetime_hour               -0.000845                -0.089766   \n",
              "trip_distance                      -0.001318                -0.000377   \n",
              "\n",
              "                         pickup_datetime_hour  trip_distance  \n",
              "fare_amount                         -0.017488       0.034744  \n",
              "pickup_longitude                     0.001136       0.580933  \n",
              "pickup_latitude                      0.001667      -0.231677  \n",
              "dropoff_longitude                   -0.000281       0.554258  \n",
              "dropoff_latitude                     0.000615      -0.249297  \n",
              "passenger_count                      0.019075       0.005320  \n",
              "pickup_datetime_year                -0.002963       0.016623  \n",
              "pickup_datetime_month               -0.005966      -0.000597  \n",
              "pickup_datetime_day                 -0.000845      -0.001318  \n",
              "pickup_datetime_weekday             -0.089766      -0.000377  \n",
              "pickup_datetime_hour                 1.000000       0.000141  \n",
              "trip_distance                        0.000141       1.000000  "
            ],
            "text/html": [
              "\n",
              "  <div id=\"df-9f43527b-8676-407d-a9e6-ae8f64a36ac9\">\n",
              "    <div class=\"colab-df-container\">\n",
              "      <div>\n",
              "<style scoped>\n",
              "    .dataframe tbody tr th:only-of-type {\n",
              "        vertical-align: middle;\n",
              "    }\n",
              "\n",
              "    .dataframe tbody tr th {\n",
              "        vertical-align: top;\n",
              "    }\n",
              "\n",
              "    .dataframe thead th {\n",
              "        text-align: right;\n",
              "    }\n",
              "</style>\n",
              "<table border=\"1\" class=\"dataframe\">\n",
              "  <thead>\n",
              "    <tr style=\"text-align: right;\">\n",
              "      <th></th>\n",
              "      <th>fare_amount</th>\n",
              "      <th>pickup_longitude</th>\n",
              "      <th>pickup_latitude</th>\n",
              "      <th>dropoff_longitude</th>\n",
              "      <th>dropoff_latitude</th>\n",
              "      <th>passenger_count</th>\n",
              "      <th>pickup_datetime_year</th>\n",
              "      <th>pickup_datetime_month</th>\n",
              "      <th>pickup_datetime_day</th>\n",
              "      <th>pickup_datetime_weekday</th>\n",
              "      <th>pickup_datetime_hour</th>\n",
              "      <th>trip_distance</th>\n",
              "    </tr>\n",
              "  </thead>\n",
              "  <tbody>\n",
              "    <tr>\n",
              "      <th>fare_amount</th>\n",
              "      <td>1.000000</td>\n",
              "      <td>0.020592</td>\n",
              "      <td>-0.017504</td>\n",
              "      <td>0.015584</td>\n",
              "      <td>-0.016543</td>\n",
              "      <td>0.014242</td>\n",
              "      <td>0.046176</td>\n",
              "      <td>0.044848</td>\n",
              "      <td>0.001635</td>\n",
              "      <td>0.006091</td>\n",
              "      <td>-0.017488</td>\n",
              "      <td>0.034744</td>\n",
              "    </tr>\n",
              "    <tr>\n",
              "      <th>pickup_longitude</th>\n",
              "      <td>0.020592</td>\n",
              "      <td>1.000000</td>\n",
              "      <td>-0.280249</td>\n",
              "      <td>0.212870</td>\n",
              "      <td>-0.256064</td>\n",
              "      <td>0.003693</td>\n",
              "      <td>0.008948</td>\n",
              "      <td>0.000920</td>\n",
              "      <td>-0.000592</td>\n",
              "      <td>-0.000768</td>\n",
              "      <td>0.001136</td>\n",
              "      <td>0.580933</td>\n",
              "    </tr>\n",
              "    <tr>\n",
              "      <th>pickup_latitude</th>\n",
              "      <td>-0.017504</td>\n",
              "      <td>-0.280249</td>\n",
              "      <td>1.000000</td>\n",
              "      <td>-0.274150</td>\n",
              "      <td>0.397163</td>\n",
              "      <td>-0.004398</td>\n",
              "      <td>-0.005922</td>\n",
              "      <td>0.001245</td>\n",
              "      <td>-0.000877</td>\n",
              "      <td>-0.003293</td>\n",
              "      <td>0.001667</td>\n",
              "      <td>-0.231677</td>\n",
              "    </tr>\n",
              "    <tr>\n",
              "      <th>dropoff_longitude</th>\n",
              "      <td>0.015584</td>\n",
              "      <td>0.212870</td>\n",
              "      <td>-0.274150</td>\n",
              "      <td>1.000000</td>\n",
              "      <td>-0.270736</td>\n",
              "      <td>0.003866</td>\n",
              "      <td>0.009044</td>\n",
              "      <td>-0.000812</td>\n",
              "      <td>0.000155</td>\n",
              "      <td>-0.000201</td>\n",
              "      <td>-0.000281</td>\n",
              "      <td>0.554258</td>\n",
              "    </tr>\n",
              "    <tr>\n",
              "      <th>dropoff_latitude</th>\n",
              "      <td>-0.016543</td>\n",
              "      <td>-0.256064</td>\n",
              "      <td>0.397163</td>\n",
              "      <td>-0.270736</td>\n",
              "      <td>1.000000</td>\n",
              "      <td>-0.003293</td>\n",
              "      <td>-0.005564</td>\n",
              "      <td>-0.000195</td>\n",
              "      <td>-0.000970</td>\n",
              "      <td>-0.001181</td>\n",
              "      <td>0.000615</td>\n",
              "      <td>-0.249297</td>\n",
              "    </tr>\n",
              "    <tr>\n",
              "      <th>passenger_count</th>\n",
              "      <td>0.014242</td>\n",
              "      <td>0.003693</td>\n",
              "      <td>-0.004398</td>\n",
              "      <td>0.003866</td>\n",
              "      <td>-0.003293</td>\n",
              "      <td>1.000000</td>\n",
              "      <td>-0.003970</td>\n",
              "      <td>0.009020</td>\n",
              "      <td>0.004551</td>\n",
              "      <td>0.040673</td>\n",
              "      <td>0.019075</td>\n",
              "      <td>0.005320</td>\n",
              "    </tr>\n",
              "    <tr>\n",
              "      <th>pickup_datetime_year</th>\n",
              "      <td>0.046176</td>\n",
              "      <td>0.008948</td>\n",
              "      <td>-0.005922</td>\n",
              "      <td>0.009044</td>\n",
              "      <td>-0.005564</td>\n",
              "      <td>-0.003970</td>\n",
              "      <td>1.000000</td>\n",
              "      <td>-0.013893</td>\n",
              "      <td>-0.005841</td>\n",
              "      <td>0.003243</td>\n",
              "      <td>-0.002963</td>\n",
              "      <td>0.016623</td>\n",
              "    </tr>\n",
              "    <tr>\n",
              "      <th>pickup_datetime_month</th>\n",
              "      <td>0.044848</td>\n",
              "      <td>0.000920</td>\n",
              "      <td>0.001245</td>\n",
              "      <td>-0.000812</td>\n",
              "      <td>-0.000195</td>\n",
              "      <td>0.009020</td>\n",
              "      <td>-0.013893</td>\n",
              "      <td>1.000000</td>\n",
              "      <td>-0.024994</td>\n",
              "      <td>-0.006248</td>\n",
              "      <td>-0.005966</td>\n",
              "      <td>-0.000597</td>\n",
              "    </tr>\n",
              "    <tr>\n",
              "      <th>pickup_datetime_day</th>\n",
              "      <td>0.001635</td>\n",
              "      <td>-0.000592</td>\n",
              "      <td>-0.000877</td>\n",
              "      <td>0.000155</td>\n",
              "      <td>-0.000970</td>\n",
              "      <td>0.004551</td>\n",
              "      <td>-0.005841</td>\n",
              "      <td>-0.024994</td>\n",
              "      <td>1.000000</td>\n",
              "      <td>0.004743</td>\n",
              "      <td>-0.000845</td>\n",
              "      <td>-0.001318</td>\n",
              "    </tr>\n",
              "    <tr>\n",
              "      <th>pickup_datetime_weekday</th>\n",
              "      <td>0.006091</td>\n",
              "      <td>-0.000768</td>\n",
              "      <td>-0.003293</td>\n",
              "      <td>-0.000201</td>\n",
              "      <td>-0.001181</td>\n",
              "      <td>0.040673</td>\n",
              "      <td>0.003243</td>\n",
              "      <td>-0.006248</td>\n",
              "      <td>0.004743</td>\n",
              "      <td>1.000000</td>\n",
              "      <td>-0.089766</td>\n",
              "      <td>-0.000377</td>\n",
              "    </tr>\n",
              "    <tr>\n",
              "      <th>pickup_datetime_hour</th>\n",
              "      <td>-0.017488</td>\n",
              "      <td>0.001136</td>\n",
              "      <td>0.001667</td>\n",
              "      <td>-0.000281</td>\n",
              "      <td>0.000615</td>\n",
              "      <td>0.019075</td>\n",
              "      <td>-0.002963</td>\n",
              "      <td>-0.005966</td>\n",
              "      <td>-0.000845</td>\n",
              "      <td>-0.089766</td>\n",
              "      <td>1.000000</td>\n",
              "      <td>0.000141</td>\n",
              "    </tr>\n",
              "    <tr>\n",
              "      <th>trip_distance</th>\n",
              "      <td>0.034744</td>\n",
              "      <td>0.580933</td>\n",
              "      <td>-0.231677</td>\n",
              "      <td>0.554258</td>\n",
              "      <td>-0.249297</td>\n",
              "      <td>0.005320</td>\n",
              "      <td>0.016623</td>\n",
              "      <td>-0.000597</td>\n",
              "      <td>-0.001318</td>\n",
              "      <td>-0.000377</td>\n",
              "      <td>0.000141</td>\n",
              "      <td>1.000000</td>\n",
              "    </tr>\n",
              "  </tbody>\n",
              "</table>\n",
              "</div>\n",
              "      <button class=\"colab-df-convert\" onclick=\"convertToInteractive('df-9f43527b-8676-407d-a9e6-ae8f64a36ac9')\"\n",
              "              title=\"Convert this dataframe to an interactive table.\"\n",
              "              style=\"display:none;\">\n",
              "        \n",
              "  <svg xmlns=\"http://www.w3.org/2000/svg\" height=\"24px\"viewBox=\"0 0 24 24\"\n",
              "       width=\"24px\">\n",
              "    <path d=\"M0 0h24v24H0V0z\" fill=\"none\"/>\n",
              "    <path d=\"M18.56 5.44l.94 2.06.94-2.06 2.06-.94-2.06-.94-.94-2.06-.94 2.06-2.06.94zm-11 1L8.5 8.5l.94-2.06 2.06-.94-2.06-.94L8.5 2.5l-.94 2.06-2.06.94zm10 10l.94 2.06.94-2.06 2.06-.94-2.06-.94-.94-2.06-.94 2.06-2.06.94z\"/><path d=\"M17.41 7.96l-1.37-1.37c-.4-.4-.92-.59-1.43-.59-.52 0-1.04.2-1.43.59L10.3 9.45l-7.72 7.72c-.78.78-.78 2.05 0 2.83L4 21.41c.39.39.9.59 1.41.59.51 0 1.02-.2 1.41-.59l7.78-7.78 2.81-2.81c.8-.78.8-2.07 0-2.86zM5.41 20L4 18.59l7.72-7.72 1.47 1.35L5.41 20z\"/>\n",
              "  </svg>\n",
              "      </button>\n",
              "      \n",
              "  <style>\n",
              "    .colab-df-container {\n",
              "      display:flex;\n",
              "      flex-wrap:wrap;\n",
              "      gap: 12px;\n",
              "    }\n",
              "\n",
              "    .colab-df-convert {\n",
              "      background-color: #E8F0FE;\n",
              "      border: none;\n",
              "      border-radius: 50%;\n",
              "      cursor: pointer;\n",
              "      display: none;\n",
              "      fill: #1967D2;\n",
              "      height: 32px;\n",
              "      padding: 0 0 0 0;\n",
              "      width: 32px;\n",
              "    }\n",
              "\n",
              "    .colab-df-convert:hover {\n",
              "      background-color: #E2EBFA;\n",
              "      box-shadow: 0px 1px 2px rgba(60, 64, 67, 0.3), 0px 1px 3px 1px rgba(60, 64, 67, 0.15);\n",
              "      fill: #174EA6;\n",
              "    }\n",
              "\n",
              "    [theme=dark] .colab-df-convert {\n",
              "      background-color: #3B4455;\n",
              "      fill: #D2E3FC;\n",
              "    }\n",
              "\n",
              "    [theme=dark] .colab-df-convert:hover {\n",
              "      background-color: #434B5C;\n",
              "      box-shadow: 0px 1px 3px 1px rgba(0, 0, 0, 0.15);\n",
              "      filter: drop-shadow(0px 1px 2px rgba(0, 0, 0, 0.3));\n",
              "      fill: #FFFFFF;\n",
              "    }\n",
              "  </style>\n",
              "\n",
              "      <script>\n",
              "        const buttonEl =\n",
              "          document.querySelector('#df-9f43527b-8676-407d-a9e6-ae8f64a36ac9 button.colab-df-convert');\n",
              "        buttonEl.style.display =\n",
              "          google.colab.kernel.accessAllowed ? 'block' : 'none';\n",
              "\n",
              "        async function convertToInteractive(key) {\n",
              "          const element = document.querySelector('#df-9f43527b-8676-407d-a9e6-ae8f64a36ac9');\n",
              "          const dataTable =\n",
              "            await google.colab.kernel.invokeFunction('convertToInteractive',\n",
              "                                                     [key], {});\n",
              "          if (!dataTable) return;\n",
              "\n",
              "          const docLinkHtml = 'Like what you see? Visit the ' +\n",
              "            '<a target=\"_blank\" href=https://colab.research.google.com/notebooks/data_table.ipynb>data table notebook</a>'\n",
              "            + ' to learn more about interactive tables.';\n",
              "          element.innerHTML = '';\n",
              "          dataTable['output_type'] = 'display_data';\n",
              "          await google.colab.output.renderOutput(dataTable, element);\n",
              "          const docLink = document.createElement('div');\n",
              "          docLink.innerHTML = docLinkHtml;\n",
              "          element.appendChild(docLink);\n",
              "        }\n",
              "      </script>\n",
              "    </div>\n",
              "  </div>\n",
              "  "
            ]
          },
          "metadata": {},
          "execution_count": 27
        }
      ]
    },
    {
      "cell_type": "markdown",
      "source": [
        "#### Looks like there is not much of a correlation between columns and target variable. So we would start out training models considering `passenger_count` `pickup_datetime_month` `pickup_datetime_year` `pickup_datetime_hour` and `trip_distance` as input columns."
      ],
      "metadata": {
        "id": "6FIjcFat3jSq"
      }
    },
    {
      "cell_type": "code",
      "source": [
        "input_cols = [\"passenger_count\",\"pickup_datetime_month\",\"pickup_datetime_year\",\"pickup_datetime_hour\", \"trip_distance\"]\n",
        "target = \"fare_amount\""
      ],
      "metadata": {
        "id": "fjTlO_Qn3bLx"
      },
      "execution_count": null,
      "outputs": []
    },
    {
      "cell_type": "markdown",
      "source": [
        "## Train and validation split\n",
        "#### The earlier performed train, validation and test set on the basis of `pickup_datetime_year` will be used for simulating the production environment where we pass that data to the model in production and perform model evaluation."
      ],
      "metadata": {
        "id": "bqzPN6b_5EVq"
      }
    },
    {
      "cell_type": "code",
      "source": [
        "from sklearn.model_selection import train_test_split"
      ],
      "metadata": {
        "id": "CZnsV2cx4pHq"
      },
      "execution_count": null,
      "outputs": []
    },
    {
      "cell_type": "code",
      "source": [
        "train_set, val_set = train_test_split(train_df_mod1, test_size=0.2, random_state=42)"
      ],
      "metadata": {
        "id": "Ee4IfqwG5MrZ"
      },
      "execution_count": null,
      "outputs": []
    },
    {
      "cell_type": "code",
      "source": [
        "train_inputs = train_set[input_cols]\n",
        "train_targets = train_set[target]\n",
        "val_inputs = val_set[input_cols]\n",
        "val_targets = val_set[target]"
      ],
      "metadata": {
        "id": "SmACKlN05oFJ"
      },
      "execution_count": null,
      "outputs": []
    },
    {
      "cell_type": "markdown",
      "source": [
        "# Model Training and Evaluation"
      ],
      "metadata": {
        "id": "JQnAYHSK5_0Z"
      }
    },
    {
      "cell_type": "code",
      "source": [
        "from sklearn.linear_model import LinearRegression\n",
        "from sklearn.metrics import mean_squared_error\n",
        "from sklearn.ensemble import RandomForestRegressor\n",
        "from xgboost import XGBRegressor"
      ],
      "metadata": {
        "id": "vJiZRl-O9M7J"
      },
      "execution_count": null,
      "outputs": []
    },
    {
      "cell_type": "code",
      "source": [
        "import pickle"
      ],
      "metadata": {
        "id": "MQk1jpP9c2sJ"
      },
      "execution_count": null,
      "outputs": []
    },
    {
      "cell_type": "code",
      "source": [
        "!pip install mlflow --quiet"
      ],
      "metadata": {
        "id": "pWEVGrVS6Nsy"
      },
      "execution_count": null,
      "outputs": []
    },
    {
      "cell_type": "markdown",
      "source": [
        "## Tracking Experiments with `DagsHub`.\n",
        "#### We will use tracking server from `DagsHub` and log the experiment runs which can be viewed from the repository in `DagsHub` under `Experiments` tab. Since model registry is not available with `DagsHub`, this method cannot be used in real production. Apart from this, mlflow run id of the particular model can be obtained from the UI in `DagsHub`."
      ],
      "metadata": {
        "id": "Zb73Mz39XPcZ"
      }
    },
    {
      "cell_type": "code",
      "source": [
        "import mlflow\n",
        "import os\n",
        "from getpass import getpass\n",
        "\n",
        "os.environ['MLFLOW_TRACKING_USERNAME'] = input('Enter your DAGsHub username: ')\n",
        "os.environ['MLFLOW_TRACKING_PASSWORD'] = getpass('Enter your DAGsHub access token: ')\n",
        "os.environ['MLFLOW_TRACKING_PROJECTNAME'] = input('Enter your DAGsHub project name: ')\n",
        "\n",
        "mlflow.set_tracking_uri(f'https://dagshub.com/' + os.environ['MLFLOW_TRACKING_USERNAME'] + '/' + os.environ['MLFLOW_TRACKING_PROJECTNAME'] + '.mlflow')\n"
      ],
      "metadata": {
        "colab": {
          "base_uri": "https://localhost:8080/"
        },
        "id": "IhFf7CVR50YB",
        "outputId": "b96d0bef-d60d-46eb-f017-96223ae9c975"
      },
      "execution_count": null,
      "outputs": [
        {
          "name": "stdout",
          "output_type": "stream",
          "text": [
            "Enter your DAGsHub username: maiden90\n",
            "Enter your DAGsHub access token: ··········\n",
            "Enter your DAGsHub project name: mlops-zoomcamp-project\n"
          ]
        }
      ]
    },
    {
      "cell_type": "markdown",
      "source": [
        "#### We will train two algorithms with various combination of hyperparameters. First we will try `LinearRegression` `RandomForestRegressor` `XGBoost`."
      ],
      "metadata": {
        "id": "My12QMw57q9x"
      }
    },
    {
      "cell_type": "code",
      "source": [
        "models = {\n",
        "    \"LRMODEL\": LinearRegression(),\n",
        "    \"RFMODEL\": RandomForestRegressor(),\n",
        "    \"XGBOOST\": XGBRegressor()\n",
        "}"
      ],
      "metadata": {
        "id": "OXFr1PWo-0TX"
      },
      "execution_count": null,
      "outputs": []
    },
    {
      "cell_type": "code",
      "source": [
        "mlflow.set_experiment(\"nyc-taxi-fare-models-test\")\n",
        "\n",
        "for name, model in models.items():\n",
        "  with mlflow.start_run():\n",
        "    model.fit(train_inputs, train_targets)\n",
        "    val_pred = model.predict(val_inputs)\n",
        "    rmse = mean_squared_error(val_targets, val_pred, squared=False)\n",
        "    mlflow.log_metric(\"rmse\", rmse)\n",
        "  with open(f'models/{name}.bin', 'wb') as f_out:\n",
        "    pickle.dump(model, f_out)"
      ],
      "metadata": {
        "colab": {
          "base_uri": "https://localhost:8080/"
        },
        "id": "17o0bk_pDXJf",
        "outputId": "7a705301-2dc5-440c-fd6c-90319461db20"
      },
      "execution_count": null,
      "outputs": [
        {
          "output_type": "stream",
          "name": "stdout",
          "text": [
            "[07:23:28] WARNING: /workspace/src/objective/regression_obj.cu:152: reg:linear is now deprecated in favor of reg:squarederror.\n"
          ]
        }
      ]
    },
    {
      "cell_type": "markdown",
      "source": [
        "From experiment logs in DagsHub, it was found that XGBoost performed the best among three models. Since the `rmse` for the model was around 4, we will skip the hyperparameter optimization and use this model for deployment."
      ],
      "metadata": {
        "id": "w1JdUWR6HuJY"
      }
    },
    {
      "cell_type": "code",
      "source": [
        "!pip freeze > requirements.txt"
      ],
      "metadata": {
        "id": "9mm6ebR3KBgz"
      },
      "execution_count": null,
      "outputs": []
    },
    {
      "cell_type": "code",
      "source": [
        ""
      ],
      "metadata": {
        "id": "yaOVp-Cl1Ln1"
      },
      "execution_count": null,
      "outputs": []
    }
  ]
}